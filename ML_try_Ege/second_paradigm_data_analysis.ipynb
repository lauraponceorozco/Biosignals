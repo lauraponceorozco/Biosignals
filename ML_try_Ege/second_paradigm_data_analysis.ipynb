{
 "cells": [
  {
   "cell_type": "code",
   "execution_count": 1,
   "id": "54061109",
   "metadata": {},
   "outputs": [],
   "source": [
    "%matplotlib widget \n",
    "#widget\n",
    "%load_ext autoreload\n",
    "%autoreload 2\n",
    "from pathlib import Path\n",
    "import numpy as np\n",
    "import pandas as pd\n",
    "import matplotlib.pyplot as plt\n",
    "import mne\n",
    "from IPython.display import display\n",
    "import os\n",
    "from help_func_new_paradigm import *"
   ]
  },
  {
   "cell_type": "code",
   "execution_count": 2,
   "id": "8ca4d26a",
   "metadata": {},
   "outputs": [],
   "source": [
    "from help_func_new_paradigm import *"
   ]
  },
  {
   "cell_type": "code",
   "execution_count": 3,
   "id": "1df80817",
   "metadata": {},
   "outputs": [],
   "source": [
    "method= \"A1\"\n",
    "feature_types=[\"B3\"]"
   ]
  },
  {
   "cell_type": "code",
   "execution_count": 4,
   "id": "2f63f542",
   "metadata": {},
   "outputs": [
    {
     "name": "stderr",
     "output_type": "stream",
     "text": [
      "C:\\Users\\acer\\AppData\\Local\\Temp\\ipykernel_8916\\3767611158.py:3: DtypeWarning: Columns (16,17,18) have mixed types. Specify dtype option on import or set low_memory=False.\n",
      "  df_eeg= pd.read_csv(base_path /'19.07.2.csv')\n",
      "d:\\TUM\\a_biosignal_github\\Biosignals\\ML_try_Ege\\help_func_new_paradigm.py:313: DtypeWarning: Columns (16,17,18) have mixed types. Specify dtype option on import or set low_memory=False.\n",
      "  df_eeg = pd.read_csv(file)\n",
      "d:\\TUM\\a_biosignal_github\\Biosignals\\ML_try_Ege\\help_func_new_paradigm.py:313: DtypeWarning: Columns (16,17,18) have mixed types. Specify dtype option on import or set low_memory=False.\n",
      "  df_eeg = pd.read_csv(file)\n",
      "d:\\TUM\\a_biosignal_github\\Biosignals\\ML_try_Ege\\help_func_new_paradigm.py:313: DtypeWarning: Columns (16,17,18) have mixed types. Specify dtype option on import or set low_memory=False.\n",
      "  df_eeg = pd.read_csv(file)\n",
      "d:\\TUM\\a_biosignal_github\\Biosignals\\ML_try_Ege\\help_func_new_paradigm.py:313: DtypeWarning: Columns (16,17,18) have mixed types. Specify dtype option on import or set low_memory=False.\n",
      "  df_eeg = pd.read_csv(file)\n",
      "d:\\TUM\\a_biosignal_github\\Biosignals\\ML_try_Ege\\help_func_new_paradigm.py:313: DtypeWarning: Columns (16,17,18) have mixed types. Specify dtype option on import or set low_memory=False.\n",
      "  df_eeg = pd.read_csv(file)\n"
     ]
    }
   ],
   "source": [
    "# Load the signal recording data\n",
    "base_path = Path.cwd().parent  / \"data\"/ \"ali_paradigm_training\" \n",
    "df_eeg= pd.read_csv(base_path /'19.07.2.csv')\n",
    "df_annotated = annotate_flash_and_target_columns(df_eeg)\n",
    "df_with_trials = add_trial_count_column_for_flashes_only(df_annotated)\n",
    "df_single = epoch_grouped_trialwise_average(df_with_trials, normalization=method, \n",
    "                                                        blink_threshold=120, blink_rejection=True)\n",
    "                                                        \n",
    "# Load the general data ; without filtering due to incomplete data\n",
    "df_combined = process_and_combine_all_csvs(base_path,blink_rejection=False, normalization=method)"
   ]
  },
  {
   "cell_type": "markdown",
   "id": "9947a465",
   "metadata": {},
   "source": [
    "## All Record Combined\n"
   ]
  },
  {
   "cell_type": "code",
   "execution_count": 5,
   "id": "96aef747",
   "metadata": {},
   "outputs": [],
   "source": [
    "from help_fischer import *"
   ]
  },
  {
   "cell_type": "code",
   "execution_count": 6,
   "id": "811e9e51",
   "metadata": {},
   "outputs": [
    {
     "name": "stdout",
     "output_type": "stream",
     "text": [
      "(300, 28) (300,)\n"
     ]
    }
   ],
   "source": [
    "X, y = extract_features_from_df_combined(df_combined, fs=128, feature_types = feature_types)\n",
    "print(X.shape, y.shape)"
   ]
  },
  {
   "cell_type": "markdown",
   "id": "3428e854",
   "metadata": {},
   "source": [
    "### SVC + Standard Scaler"
   ]
  },
  {
   "cell_type": "code",
   "execution_count": 7,
   "id": "0193e1a9",
   "metadata": {},
   "outputs": [
    {
     "name": "stderr",
     "output_type": "stream",
     "text": [
      "C:\\Users\\acer\\AppData\\Local\\Temp\\ipykernel_8916\\4010560686.py:76: FutureWarning: Setting an item of incompatible dtype is deprecated and will raise an error in a future version of pandas. Value 'Mean' has dtype incompatible with float64, please explicitly cast to a compatible dtype first.\n",
      "  mean_row[\"Fold\"] = \"Mean\"\n",
      "C:\\Users\\acer\\AppData\\Local\\Temp\\ipykernel_8916\\4010560686.py:78: FutureWarning: Setting an item of incompatible dtype is deprecated and will raise an error in a future version of pandas. Value 'Std' has dtype incompatible with float64, please explicitly cast to a compatible dtype first.\n",
      "  std_row[\"Fold\"] = \"Std\"\n"
     ]
    },
    {
     "data": {
      "application/vnd.microsoft.datawrangler.viewer.v0+json": {
       "columns": [
        {
         "name": "index",
         "rawType": "int64",
         "type": "integer"
        },
        {
         "name": "Fold",
         "rawType": "object",
         "type": "unknown"
        },
        {
         "name": "Accuracy_Combined",
         "rawType": "float64",
         "type": "float"
        },
        {
         "name": "Accuracy_Column",
         "rawType": "float64",
         "type": "float"
        },
        {
         "name": "Accuracy_Row",
         "rawType": "float64",
         "type": "float"
        }
       ],
       "ref": "1567ab08-00f4-4097-b4c7-6021a5a13eb6",
       "rows": [
        [
         "0",
         "0",
         "0.0",
         "0.1",
         "0.2"
        ],
        [
         "1",
         "1",
         "0.2",
         "0.5",
         "0.4"
        ],
        [
         "2",
         "2",
         "0.3",
         "0.4",
         "0.6"
        ],
        [
         "3",
         "3",
         "0.0",
         "0.1",
         "0.4"
        ],
        [
         "4",
         "4",
         "0.2",
         "0.4",
         "0.3"
        ],
        [
         "5",
         "Mean",
         "0.13999999999999999",
         "0.3",
         "0.38"
        ],
        [
         "6",
         "Std",
         "0.1341640786499874",
         "0.18708286933869708",
         "0.14832396974191325"
        ]
       ],
       "shape": {
        "columns": 4,
        "rows": 7
       }
      },
      "text/html": [
       "<div>\n",
       "<style scoped>\n",
       "    .dataframe tbody tr th:only-of-type {\n",
       "        vertical-align: middle;\n",
       "    }\n",
       "\n",
       "    .dataframe tbody tr th {\n",
       "        vertical-align: top;\n",
       "    }\n",
       "\n",
       "    .dataframe thead th {\n",
       "        text-align: right;\n",
       "    }\n",
       "</style>\n",
       "<table border=\"1\" class=\"dataframe\">\n",
       "  <thead>\n",
       "    <tr style=\"text-align: right;\">\n",
       "      <th></th>\n",
       "      <th>Fold</th>\n",
       "      <th>Accuracy_Combined</th>\n",
       "      <th>Accuracy_Column</th>\n",
       "      <th>Accuracy_Row</th>\n",
       "    </tr>\n",
       "  </thead>\n",
       "  <tbody>\n",
       "    <tr>\n",
       "      <th>0</th>\n",
       "      <td>0</td>\n",
       "      <td>0.000000</td>\n",
       "      <td>0.100000</td>\n",
       "      <td>0.200000</td>\n",
       "    </tr>\n",
       "    <tr>\n",
       "      <th>1</th>\n",
       "      <td>1</td>\n",
       "      <td>0.200000</td>\n",
       "      <td>0.500000</td>\n",
       "      <td>0.400000</td>\n",
       "    </tr>\n",
       "    <tr>\n",
       "      <th>2</th>\n",
       "      <td>2</td>\n",
       "      <td>0.300000</td>\n",
       "      <td>0.400000</td>\n",
       "      <td>0.600000</td>\n",
       "    </tr>\n",
       "    <tr>\n",
       "      <th>3</th>\n",
       "      <td>3</td>\n",
       "      <td>0.000000</td>\n",
       "      <td>0.100000</td>\n",
       "      <td>0.400000</td>\n",
       "    </tr>\n",
       "    <tr>\n",
       "      <th>4</th>\n",
       "      <td>4</td>\n",
       "      <td>0.200000</td>\n",
       "      <td>0.400000</td>\n",
       "      <td>0.300000</td>\n",
       "    </tr>\n",
       "    <tr>\n",
       "      <th>5</th>\n",
       "      <td>Mean</td>\n",
       "      <td>0.140000</td>\n",
       "      <td>0.300000</td>\n",
       "      <td>0.380000</td>\n",
       "    </tr>\n",
       "    <tr>\n",
       "      <th>6</th>\n",
       "      <td>Std</td>\n",
       "      <td>0.134164</td>\n",
       "      <td>0.187083</td>\n",
       "      <td>0.148324</td>\n",
       "    </tr>\n",
       "  </tbody>\n",
       "</table>\n",
       "</div>"
      ],
      "text/plain": [
       "   Fold  Accuracy_Combined  Accuracy_Column  Accuracy_Row\n",
       "0     0           0.000000         0.100000      0.200000\n",
       "1     1           0.200000         0.500000      0.400000\n",
       "2     2           0.300000         0.400000      0.600000\n",
       "3     3           0.000000         0.100000      0.400000\n",
       "4     4           0.200000         0.400000      0.300000\n",
       "5  Mean           0.140000         0.300000      0.380000\n",
       "6   Std           0.134164         0.187083      0.148324"
      ]
     },
     "metadata": {},
     "output_type": "display_data"
    }
   ],
   "source": [
    "import numpy as np\n",
    "import pandas as pd\n",
    "from sklearn.svm import SVC\n",
    "from sklearn.discriminant_analysis import LinearDiscriminantAnalysis as LDA\n",
    "from sklearn.preprocessing import StandardScaler\n",
    "from sklearn.metrics import accuracy_score\n",
    "\n",
    "# Simulate fold-wise 5-fold data (5 folds, 60 rows each, 6 rows per trial → 10 trials per fold)\n",
    "# Each 6-row group represents one trial (first 3: columns, next 3: rows)\n",
    "num_folds = 5\n",
    "rows_per_fold = 60\n",
    "\n",
    "# Session splits\n",
    "session_splits = {\n",
    "    0: np.arange(0, 60),    \n",
    "    1: np.arange(60, 120),   \n",
    "    2: np.arange(120, 180),\n",
    "    3: np.arange(180, 240),    \n",
    "    4: np.arange(240, 300)    \n",
    "}\n",
    "\n",
    "results = []\n",
    "num_folds = 5\n",
    "\n",
    "for test_fold in range(num_folds):\n",
    "    test_trials = session_splits[test_fold]\n",
    "    train_trials = np.setdiff1d(np.arange(300), test_trials)\n",
    "\n",
    "    X_train_full, X_test_full = X[train_trials], X[test_trials]\n",
    "    y_train, y_test = y[train_trials], y[test_trials]\n",
    "\n",
    "    # === Feature selection ===\n",
    "    X_train, selected_idx = select_top_k_fisher_multiclass(X_train_full, y_train, k=10)\n",
    "    X_test = X_test_full[:, selected_idx]\n",
    "\n",
    "    # === Feature Scaling ===\n",
    "    scaler = StandardScaler()\n",
    "    X_train_scaled = scaler.fit_transform(X_train)\n",
    "    X_test_scaled = scaler.transform(X_test)\n",
    "\n",
    "    # === Train classifier ===\n",
    "    clf = SVC(kernel='linear', probability=True, random_state=42)\n",
    "    clf.fit(X_train_scaled, y_train)\n",
    "    y_probs = clf.predict_proba(X_test_scaled)[:, 1]\n",
    "\n",
    "    # === WTA evaluation ===\n",
    "    correct_combined = 0\n",
    "    correct_column = 0\n",
    "    correct_row = 0\n",
    "\n",
    "    for i in range(0, len(y_test), 6):\n",
    "        block_probs = y_probs[i:i+6]\n",
    "        block_y = y_test[i:i+6]\n",
    "\n",
    "        top_col = np.argmax(block_probs[0:3])\n",
    "        top_row = np.argmax(block_probs[3:6])\n",
    "\n",
    "        correct_col = np.argmax(block_y[0:3])\n",
    "        correct_row_val = np.argmax(block_y[3:6])\n",
    "\n",
    "        correct_column += (top_col == correct_col)\n",
    "        correct_row += (top_row == correct_row_val)\n",
    "        correct_combined += ((top_col == correct_col) and (top_row == correct_row_val))\n",
    "\n",
    "    fold_result = {\n",
    "        \"Fold\": test_fold,\n",
    "        \"Accuracy_Combined\": correct_combined / (len(y_test) // 6),\n",
    "        \"Accuracy_Column\": correct_column / (len(y_test) // 6),\n",
    "        \"Accuracy_Row\": correct_row / (len(y_test) // 6),\n",
    "    }\n",
    "\n",
    "    results.append(fold_result)\n",
    "\n",
    "df_results = pd.DataFrame(results)\n",
    "mean_row = df_results.mean(numeric_only=True)\n",
    "mean_row[\"Fold\"] = \"Mean\"\n",
    "std_row = df_results.std(numeric_only=True)\n",
    "std_row[\"Fold\"] = \"Std\"\n",
    "df_results = pd.concat([df_results, pd.DataFrame([mean_row, std_row])], ignore_index=True)\n",
    "display(df_results)"
   ]
  },
  {
   "cell_type": "code",
   "execution_count": 8,
   "id": "7f76e459",
   "metadata": {},
   "outputs": [],
   "source": [
    "### LDA"
   ]
  },
  {
   "cell_type": "code",
   "execution_count": 9,
   "id": "210b6bf2",
   "metadata": {},
   "outputs": [
    {
     "name": "stderr",
     "output_type": "stream",
     "text": [
      "C:\\Users\\acer\\AppData\\Local\\Temp\\ipykernel_8916\\2479968578.py:50: FutureWarning: Setting an item of incompatible dtype is deprecated and will raise an error in a future version of pandas. Value 'Mean' has dtype incompatible with float64, please explicitly cast to a compatible dtype first.\n",
      "  mean_row[\"Fold\"] = \"Mean\"\n",
      "C:\\Users\\acer\\AppData\\Local\\Temp\\ipykernel_8916\\2479968578.py:52: FutureWarning: Setting an item of incompatible dtype is deprecated and will raise an error in a future version of pandas. Value 'Std' has dtype incompatible with float64, please explicitly cast to a compatible dtype first.\n",
      "  std_row[\"Fold\"] = \"Std\"\n"
     ]
    },
    {
     "data": {
      "application/vnd.microsoft.datawrangler.viewer.v0+json": {
       "columns": [
        {
         "name": "index",
         "rawType": "int64",
         "type": "integer"
        },
        {
         "name": "Fold",
         "rawType": "object",
         "type": "unknown"
        },
        {
         "name": "Accuracy_Combined",
         "rawType": "float64",
         "type": "float"
        },
        {
         "name": "Accuracy_Column",
         "rawType": "float64",
         "type": "float"
        },
        {
         "name": "Accuracy_Row",
         "rawType": "float64",
         "type": "float"
        }
       ],
       "ref": "d284c9c1-cd9a-49a0-b9a8-ea7436cedbc9",
       "rows": [
        [
         "0",
         "0",
         "0.4",
         "0.7",
         "0.4"
        ],
        [
         "1",
         "1",
         "0.1",
         "0.1",
         "0.3"
        ],
        [
         "2",
         "2",
         "0.0",
         "0.3",
         "0.1"
        ],
        [
         "3",
         "3",
         "0.2",
         "0.5",
         "0.2"
        ],
        [
         "4",
         "4",
         "0.1",
         "0.1",
         "0.3"
        ],
        [
         "5",
         "Mean",
         "0.15999999999999998",
         "0.33999999999999997",
         "0.26"
        ],
        [
         "6",
         "Std",
         "0.15165750888103102",
         "0.2607680962081059",
         "0.11401754250991379"
        ]
       ],
       "shape": {
        "columns": 4,
        "rows": 7
       }
      },
      "text/html": [
       "<div>\n",
       "<style scoped>\n",
       "    .dataframe tbody tr th:only-of-type {\n",
       "        vertical-align: middle;\n",
       "    }\n",
       "\n",
       "    .dataframe tbody tr th {\n",
       "        vertical-align: top;\n",
       "    }\n",
       "\n",
       "    .dataframe thead th {\n",
       "        text-align: right;\n",
       "    }\n",
       "</style>\n",
       "<table border=\"1\" class=\"dataframe\">\n",
       "  <thead>\n",
       "    <tr style=\"text-align: right;\">\n",
       "      <th></th>\n",
       "      <th>Fold</th>\n",
       "      <th>Accuracy_Combined</th>\n",
       "      <th>Accuracy_Column</th>\n",
       "      <th>Accuracy_Row</th>\n",
       "    </tr>\n",
       "  </thead>\n",
       "  <tbody>\n",
       "    <tr>\n",
       "      <th>0</th>\n",
       "      <td>0</td>\n",
       "      <td>0.400000</td>\n",
       "      <td>0.700000</td>\n",
       "      <td>0.400000</td>\n",
       "    </tr>\n",
       "    <tr>\n",
       "      <th>1</th>\n",
       "      <td>1</td>\n",
       "      <td>0.100000</td>\n",
       "      <td>0.100000</td>\n",
       "      <td>0.300000</td>\n",
       "    </tr>\n",
       "    <tr>\n",
       "      <th>2</th>\n",
       "      <td>2</td>\n",
       "      <td>0.000000</td>\n",
       "      <td>0.300000</td>\n",
       "      <td>0.100000</td>\n",
       "    </tr>\n",
       "    <tr>\n",
       "      <th>3</th>\n",
       "      <td>3</td>\n",
       "      <td>0.200000</td>\n",
       "      <td>0.500000</td>\n",
       "      <td>0.200000</td>\n",
       "    </tr>\n",
       "    <tr>\n",
       "      <th>4</th>\n",
       "      <td>4</td>\n",
       "      <td>0.100000</td>\n",
       "      <td>0.100000</td>\n",
       "      <td>0.300000</td>\n",
       "    </tr>\n",
       "    <tr>\n",
       "      <th>5</th>\n",
       "      <td>Mean</td>\n",
       "      <td>0.160000</td>\n",
       "      <td>0.340000</td>\n",
       "      <td>0.260000</td>\n",
       "    </tr>\n",
       "    <tr>\n",
       "      <th>6</th>\n",
       "      <td>Std</td>\n",
       "      <td>0.151658</td>\n",
       "      <td>0.260768</td>\n",
       "      <td>0.114018</td>\n",
       "    </tr>\n",
       "  </tbody>\n",
       "</table>\n",
       "</div>"
      ],
      "text/plain": [
       "   Fold  Accuracy_Combined  Accuracy_Column  Accuracy_Row\n",
       "0     0           0.400000         0.700000      0.400000\n",
       "1     1           0.100000         0.100000      0.300000\n",
       "2     2           0.000000         0.300000      0.100000\n",
       "3     3           0.200000         0.500000      0.200000\n",
       "4     4           0.100000         0.100000      0.300000\n",
       "5  Mean           0.160000         0.340000      0.260000\n",
       "6   Std           0.151658         0.260768      0.114018"
      ]
     },
     "metadata": {},
     "output_type": "display_data"
    }
   ],
   "source": [
    "results = []\n",
    "\n",
    "for test_fold in range(5):\n",
    "    test_trials = session_splits[test_fold]\n",
    "    train_trials = np.setdiff1d(np.arange(300), test_trials)\n",
    "\n",
    "    X_train_full, X_test_full = X[train_trials], X[test_trials]\n",
    "    y_train, y_test = y[train_trials], y[test_trials]\n",
    "\n",
    "    # === Feature selection ===\n",
    "    X_train, selected_idx = select_top_k_fisher_multiclass(X_train_full, y_train, k=10)\n",
    "    X_test = X_test_full[:, selected_idx]\n",
    "\n",
    "    # === Train LDA classifier ===\n",
    "    clf = LDA()\n",
    "    clf.fit(X_train, y_train)\n",
    "    y_probs = clf.predict_proba(X_test)[:, 1]\n",
    "\n",
    "    # === WTA evaluation ===\n",
    "    correct_combined = 0\n",
    "    correct_column = 0\n",
    "    correct_row = 0\n",
    "\n",
    "    for i in range(0, len(y_test), 6):\n",
    "        block_probs = y_probs[i:i+6]\n",
    "        block_y = y_test[i:i+6]\n",
    "\n",
    "        top_col = np.argmax(block_probs[0:3])\n",
    "        top_row = np.argmax(block_probs[3:6])\n",
    "\n",
    "        correct_col = np.argmax(block_y[0:3])\n",
    "        correct_row_val = np.argmax(block_y[3:6])\n",
    "\n",
    "        correct_column += (top_col == correct_col)\n",
    "        correct_row += (top_row == correct_row_val)\n",
    "        correct_combined += ((top_col == correct_col) and (top_row == correct_row_val))\n",
    "\n",
    "    fold_result = {\n",
    "        \"Fold\": test_fold,\n",
    "        \"Accuracy_Combined\": correct_combined / (len(y_test) // 6),\n",
    "        \"Accuracy_Column\": correct_column / (len(y_test) // 6),\n",
    "        \"Accuracy_Row\": correct_row / (len(y_test) // 6),\n",
    "    }\n",
    "\n",
    "    results.append(fold_result)\n",
    "\n",
    "# === Summary\n",
    "df_results = pd.DataFrame(results)\n",
    "mean_row = df_results.mean(numeric_only=True)\n",
    "mean_row[\"Fold\"] = \"Mean\"\n",
    "std_row = df_results.std(numeric_only=True)\n",
    "std_row[\"Fold\"] = \"Std\"\n",
    "df_results = pd.concat([df_results, pd.DataFrame([mean_row, std_row])], ignore_index=True)\n",
    "\n",
    "display(df_results)\n"
   ]
  },
  {
   "cell_type": "markdown",
   "id": "ad090e63",
   "metadata": {},
   "source": [
    "### Selected electrodes - Didn't work"
   ]
  },
  {
   "cell_type": "markdown",
   "id": "72a92dba",
   "metadata": {},
   "source": [
    "### SVC + Standard Scaler"
   ]
  },
  {
   "cell_type": "code",
   "execution_count": 11,
   "id": "4676e4d5",
   "metadata": {},
   "outputs": [
    {
     "name": "stderr",
     "output_type": "stream",
     "text": [
      "C:\\Users\\acer\\AppData\\Local\\Temp\\ipykernel_8916\\2651718423.py:65: FutureWarning: Setting an item of incompatible dtype is deprecated and will raise an error in a future version of pandas. Value 'Mean' has dtype incompatible with float64, please explicitly cast to a compatible dtype first.\n",
      "  mean_row[\"Fold\"] = \"Mean\"\n",
      "C:\\Users\\acer\\AppData\\Local\\Temp\\ipykernel_8916\\2651718423.py:67: FutureWarning: Setting an item of incompatible dtype is deprecated and will raise an error in a future version of pandas. Value 'Std' has dtype incompatible with float64, please explicitly cast to a compatible dtype first.\n",
      "  std_row[\"Fold\"] = \"Std\"\n"
     ]
    },
    {
     "data": {
      "application/vnd.microsoft.datawrangler.viewer.v0+json": {
       "columns": [
        {
         "name": "index",
         "rawType": "int64",
         "type": "integer"
        },
        {
         "name": "Fold",
         "rawType": "object",
         "type": "unknown"
        },
        {
         "name": "Accuracy_Combined",
         "rawType": "float64",
         "type": "float"
        },
        {
         "name": "Accuracy_Column",
         "rawType": "float64",
         "type": "float"
        },
        {
         "name": "Accuracy_Row",
         "rawType": "float64",
         "type": "float"
        }
       ],
       "ref": "9f5939fc-2acb-4536-b2ca-84d250b79b58",
       "rows": [
        [
         "0",
         "0",
         "0.1",
         "0.2",
         "0.3"
        ],
        [
         "1",
         "1",
         "0.1",
         "0.3",
         "0.3"
        ],
        [
         "2",
         "2",
         "0.1",
         "0.3",
         "0.5"
        ],
        [
         "3",
         "3",
         "0.0",
         "0.7",
         "0.2"
        ],
        [
         "4",
         "4",
         "0.1",
         "0.3",
         "0.4"
        ],
        [
         "5",
         "Mean",
         "0.08",
         "0.36",
         "0.34"
        ],
        [
         "6",
         "Std",
         "0.044721359549995794",
         "0.19493588689617924",
         "0.11401754250991379"
        ]
       ],
       "shape": {
        "columns": 4,
        "rows": 7
       }
      },
      "text/html": [
       "<div>\n",
       "<style scoped>\n",
       "    .dataframe tbody tr th:only-of-type {\n",
       "        vertical-align: middle;\n",
       "    }\n",
       "\n",
       "    .dataframe tbody tr th {\n",
       "        vertical-align: top;\n",
       "    }\n",
       "\n",
       "    .dataframe thead th {\n",
       "        text-align: right;\n",
       "    }\n",
       "</style>\n",
       "<table border=\"1\" class=\"dataframe\">\n",
       "  <thead>\n",
       "    <tr style=\"text-align: right;\">\n",
       "      <th></th>\n",
       "      <th>Fold</th>\n",
       "      <th>Accuracy_Combined</th>\n",
       "      <th>Accuracy_Column</th>\n",
       "      <th>Accuracy_Row</th>\n",
       "    </tr>\n",
       "  </thead>\n",
       "  <tbody>\n",
       "    <tr>\n",
       "      <th>0</th>\n",
       "      <td>0</td>\n",
       "      <td>0.100000</td>\n",
       "      <td>0.200000</td>\n",
       "      <td>0.300000</td>\n",
       "    </tr>\n",
       "    <tr>\n",
       "      <th>1</th>\n",
       "      <td>1</td>\n",
       "      <td>0.100000</td>\n",
       "      <td>0.300000</td>\n",
       "      <td>0.300000</td>\n",
       "    </tr>\n",
       "    <tr>\n",
       "      <th>2</th>\n",
       "      <td>2</td>\n",
       "      <td>0.100000</td>\n",
       "      <td>0.300000</td>\n",
       "      <td>0.500000</td>\n",
       "    </tr>\n",
       "    <tr>\n",
       "      <th>3</th>\n",
       "      <td>3</td>\n",
       "      <td>0.000000</td>\n",
       "      <td>0.700000</td>\n",
       "      <td>0.200000</td>\n",
       "    </tr>\n",
       "    <tr>\n",
       "      <th>4</th>\n",
       "      <td>4</td>\n",
       "      <td>0.100000</td>\n",
       "      <td>0.300000</td>\n",
       "      <td>0.400000</td>\n",
       "    </tr>\n",
       "    <tr>\n",
       "      <th>5</th>\n",
       "      <td>Mean</td>\n",
       "      <td>0.080000</td>\n",
       "      <td>0.360000</td>\n",
       "      <td>0.340000</td>\n",
       "    </tr>\n",
       "    <tr>\n",
       "      <th>6</th>\n",
       "      <td>Std</td>\n",
       "      <td>0.044721</td>\n",
       "      <td>0.194936</td>\n",
       "      <td>0.114018</td>\n",
       "    </tr>\n",
       "  </tbody>\n",
       "</table>\n",
       "</div>"
      ],
      "text/plain": [
       "   Fold  Accuracy_Combined  Accuracy_Column  Accuracy_Row\n",
       "0     0           0.100000         0.200000      0.300000\n",
       "1     1           0.100000         0.300000      0.300000\n",
       "2     2           0.100000         0.300000      0.500000\n",
       "3     3           0.000000         0.700000      0.200000\n",
       "4     4           0.100000         0.300000      0.400000\n",
       "5  Mean           0.080000         0.360000      0.340000\n",
       "6   Std           0.044721         0.194936      0.114018"
      ]
     },
     "metadata": {},
     "output_type": "display_data"
    }
   ],
   "source": [
    "selected_idx = [3, 11, 24, 26, 27]\n",
    "# Session splits\n",
    "session_splits = {\n",
    "    0: np.arange(0, 60),    \n",
    "    1: np.arange(60, 120),   \n",
    "    2: np.arange(120, 180),\n",
    "    3: np.arange(180, 240),    \n",
    "    4: np.arange(240, 300)    \n",
    "}\n",
    "\n",
    "results = []\n",
    "num_folds = 5\n",
    "\n",
    "for test_fold in range(num_folds):\n",
    "    test_trials = session_splits[test_fold]\n",
    "    train_trials = np.setdiff1d(np.arange(300), test_trials)\n",
    "\n",
    "    X_train_full, X_test_full = X[train_trials], X[test_trials]\n",
    "    y_train, y_test = y[train_trials], y[test_trials]\n",
    "\n",
    "    # === Feature selection ===\n",
    "    X_train = X_train_full[:, selected_idx]\n",
    "    X_test = X_test_full[:, selected_idx]\n",
    "\n",
    "    # === Feature Scaling ===\n",
    "    scaler = StandardScaler()\n",
    "    X_train_scaled = scaler.fit_transform(X_train)\n",
    "    X_test_scaled = scaler.transform(X_test)\n",
    "\n",
    "    # === Train classifier ===\n",
    "    clf = SVC(kernel='linear', probability=True, random_state=42)\n",
    "    clf.fit(X_train_scaled, y_train)\n",
    "    y_probs = clf.predict_proba(X_test_scaled)[:, 1]\n",
    "\n",
    "    # === WTA evaluation ===\n",
    "    correct_combined = 0\n",
    "    correct_column = 0\n",
    "    correct_row = 0\n",
    "\n",
    "    for i in range(0, len(y_test), 6):\n",
    "        block_probs = y_probs[i:i+6]\n",
    "        block_y = y_test[i:i+6]\n",
    "\n",
    "        top_col = np.argmax(block_probs[0:3])\n",
    "        top_row = np.argmax(block_probs[3:6])\n",
    "\n",
    "        correct_col = np.argmax(block_y[0:3])\n",
    "        correct_row_val = np.argmax(block_y[3:6])\n",
    "\n",
    "        correct_column += (top_col == correct_col)\n",
    "        correct_row += (top_row == correct_row_val)\n",
    "        correct_combined += ((top_col == correct_col) and (top_row == correct_row_val))\n",
    "\n",
    "    fold_result = {\n",
    "        \"Fold\": test_fold,\n",
    "        \"Accuracy_Combined\": correct_combined / (len(y_test) // 6),\n",
    "        \"Accuracy_Column\": correct_column / (len(y_test) // 6),\n",
    "        \"Accuracy_Row\": correct_row / (len(y_test) // 6),\n",
    "    }\n",
    "\n",
    "    results.append(fold_result)\n",
    "\n",
    "df_results = pd.DataFrame(results)\n",
    "mean_row = df_results.mean(numeric_only=True)\n",
    "mean_row[\"Fold\"] = \"Mean\"\n",
    "std_row = df_results.std(numeric_only=True)\n",
    "std_row[\"Fold\"] = \"Std\"\n",
    "df_results = pd.concat([df_results, pd.DataFrame([mean_row, std_row])], ignore_index=True)\n",
    "display(df_results)"
   ]
  },
  {
   "cell_type": "markdown",
   "id": "782a50a7",
   "metadata": {},
   "source": [
    "### LDA "
   ]
  },
  {
   "cell_type": "code",
   "execution_count": 12,
   "id": "f896f4b5",
   "metadata": {},
   "outputs": [
    {
     "name": "stderr",
     "output_type": "stream",
     "text": [
      "C:\\Users\\acer\\AppData\\Local\\Temp\\ipykernel_8916\\1185944193.py:50: FutureWarning: Setting an item of incompatible dtype is deprecated and will raise an error in a future version of pandas. Value 'Mean' has dtype incompatible with float64, please explicitly cast to a compatible dtype first.\n",
      "  mean_row[\"Fold\"] = \"Mean\"\n",
      "C:\\Users\\acer\\AppData\\Local\\Temp\\ipykernel_8916\\1185944193.py:52: FutureWarning: Setting an item of incompatible dtype is deprecated and will raise an error in a future version of pandas. Value 'Std' has dtype incompatible with float64, please explicitly cast to a compatible dtype first.\n",
      "  std_row[\"Fold\"] = \"Std\"\n"
     ]
    },
    {
     "data": {
      "application/vnd.microsoft.datawrangler.viewer.v0+json": {
       "columns": [
        {
         "name": "index",
         "rawType": "int64",
         "type": "integer"
        },
        {
         "name": "Fold",
         "rawType": "object",
         "type": "unknown"
        },
        {
         "name": "Accuracy_Combined",
         "rawType": "float64",
         "type": "float"
        },
        {
         "name": "Accuracy_Column",
         "rawType": "float64",
         "type": "float"
        },
        {
         "name": "Accuracy_Row",
         "rawType": "float64",
         "type": "float"
        }
       ],
       "ref": "53a33a95-0c7e-4825-a4df-a3229cf95237",
       "rows": [
        [
         "0",
         "0",
         "0.2",
         "0.6",
         "0.3"
        ],
        [
         "1",
         "1",
         "0.4",
         "0.5",
         "0.6"
        ],
        [
         "2",
         "2",
         "0.2",
         "0.6",
         "0.2"
        ],
        [
         "3",
         "3",
         "0.2",
         "0.5",
         "0.3"
        ],
        [
         "4",
         "4",
         "0.1",
         "0.1",
         "0.4"
        ],
        [
         "5",
         "Mean",
         "0.22000000000000003",
         "0.4600000000000001",
         "0.36"
        ],
        [
         "6",
         "Std",
         "0.10954451150103321",
         "0.20736441353327723",
         "0.15165750888103102"
        ]
       ],
       "shape": {
        "columns": 4,
        "rows": 7
       }
      },
      "text/html": [
       "<div>\n",
       "<style scoped>\n",
       "    .dataframe tbody tr th:only-of-type {\n",
       "        vertical-align: middle;\n",
       "    }\n",
       "\n",
       "    .dataframe tbody tr th {\n",
       "        vertical-align: top;\n",
       "    }\n",
       "\n",
       "    .dataframe thead th {\n",
       "        text-align: right;\n",
       "    }\n",
       "</style>\n",
       "<table border=\"1\" class=\"dataframe\">\n",
       "  <thead>\n",
       "    <tr style=\"text-align: right;\">\n",
       "      <th></th>\n",
       "      <th>Fold</th>\n",
       "      <th>Accuracy_Combined</th>\n",
       "      <th>Accuracy_Column</th>\n",
       "      <th>Accuracy_Row</th>\n",
       "    </tr>\n",
       "  </thead>\n",
       "  <tbody>\n",
       "    <tr>\n",
       "      <th>0</th>\n",
       "      <td>0</td>\n",
       "      <td>0.200000</td>\n",
       "      <td>0.600000</td>\n",
       "      <td>0.300000</td>\n",
       "    </tr>\n",
       "    <tr>\n",
       "      <th>1</th>\n",
       "      <td>1</td>\n",
       "      <td>0.400000</td>\n",
       "      <td>0.500000</td>\n",
       "      <td>0.600000</td>\n",
       "    </tr>\n",
       "    <tr>\n",
       "      <th>2</th>\n",
       "      <td>2</td>\n",
       "      <td>0.200000</td>\n",
       "      <td>0.600000</td>\n",
       "      <td>0.200000</td>\n",
       "    </tr>\n",
       "    <tr>\n",
       "      <th>3</th>\n",
       "      <td>3</td>\n",
       "      <td>0.200000</td>\n",
       "      <td>0.500000</td>\n",
       "      <td>0.300000</td>\n",
       "    </tr>\n",
       "    <tr>\n",
       "      <th>4</th>\n",
       "      <td>4</td>\n",
       "      <td>0.100000</td>\n",
       "      <td>0.100000</td>\n",
       "      <td>0.400000</td>\n",
       "    </tr>\n",
       "    <tr>\n",
       "      <th>5</th>\n",
       "      <td>Mean</td>\n",
       "      <td>0.220000</td>\n",
       "      <td>0.460000</td>\n",
       "      <td>0.360000</td>\n",
       "    </tr>\n",
       "    <tr>\n",
       "      <th>6</th>\n",
       "      <td>Std</td>\n",
       "      <td>0.109545</td>\n",
       "      <td>0.207364</td>\n",
       "      <td>0.151658</td>\n",
       "    </tr>\n",
       "  </tbody>\n",
       "</table>\n",
       "</div>"
      ],
      "text/plain": [
       "   Fold  Accuracy_Combined  Accuracy_Column  Accuracy_Row\n",
       "0     0           0.200000         0.600000      0.300000\n",
       "1     1           0.400000         0.500000      0.600000\n",
       "2     2           0.200000         0.600000      0.200000\n",
       "3     3           0.200000         0.500000      0.300000\n",
       "4     4           0.100000         0.100000      0.400000\n",
       "5  Mean           0.220000         0.460000      0.360000\n",
       "6   Std           0.109545         0.207364      0.151658"
      ]
     },
     "metadata": {},
     "output_type": "display_data"
    }
   ],
   "source": [
    "results = []\n",
    "\n",
    "for test_fold in range(5):\n",
    "    test_trials = session_splits[test_fold]\n",
    "    train_trials = np.setdiff1d(np.arange(300), test_trials)\n",
    "\n",
    "    X_train_full, X_test_full = X[train_trials], X[test_trials]\n",
    "    y_train, y_test = y[train_trials], y[test_trials]\n",
    "\n",
    "    # === Feature selection ===\n",
    "    X_train = X_train_full[:, selected_idx]\n",
    "    X_test = X_test_full[:, selected_idx]\n",
    "\n",
    "    # === Train LDA classifier ===\n",
    "    clf = LDA()\n",
    "    clf.fit(X_train, y_train)\n",
    "    y_probs = clf.predict_proba(X_test)[:, 1]\n",
    "\n",
    "    # === WTA evaluation ===\n",
    "    correct_combined = 0\n",
    "    correct_column = 0\n",
    "    correct_row = 0\n",
    "\n",
    "    for i in range(0, len(y_test), 6):\n",
    "        block_probs = y_probs[i:i+6]\n",
    "        block_y = y_test[i:i+6]\n",
    "\n",
    "        top_col = np.argmax(block_probs[0:3])\n",
    "        top_row = np.argmax(block_probs[3:6])\n",
    "\n",
    "        correct_col = np.argmax(block_y[0:3])\n",
    "        correct_row_val = np.argmax(block_y[3:6])\n",
    "\n",
    "        correct_column += (top_col == correct_col)\n",
    "        correct_row += (top_row == correct_row_val)\n",
    "        correct_combined += ((top_col == correct_col) and (top_row == correct_row_val))\n",
    "\n",
    "    fold_result = {\n",
    "        \"Fold\": test_fold,\n",
    "        \"Accuracy_Combined\": correct_combined / (len(y_test) // 6),\n",
    "        \"Accuracy_Column\": correct_column / (len(y_test) // 6),\n",
    "        \"Accuracy_Row\": correct_row / (len(y_test) // 6),\n",
    "    }\n",
    "\n",
    "    results.append(fold_result)\n",
    "\n",
    "# === Summary\n",
    "df_results = pd.DataFrame(results)\n",
    "mean_row = df_results.mean(numeric_only=True)\n",
    "mean_row[\"Fold\"] = \"Mean\"\n",
    "std_row = df_results.std(numeric_only=True)\n",
    "std_row[\"Fold\"] = \"Std\"\n",
    "df_results = pd.concat([df_results, pd.DataFrame([mean_row, std_row])], ignore_index=True)\n",
    "\n",
    "display(df_results)"
   ]
  },
  {
   "cell_type": "markdown",
   "id": "e065afab",
   "metadata": {},
   "source": [
    "## 1 Record Only"
   ]
  },
  {
   "cell_type": "code",
   "execution_count": 13,
   "id": "20553fc0",
   "metadata": {},
   "outputs": [
    {
     "name": "stdout",
     "output_type": "stream",
     "text": [
      "(300, 28) (300,)\n"
     ]
    }
   ],
   "source": [
    "X, y = extract_features_from_df_combined(df_combined, fs=128, feature_types = feature_types)\n",
    "print(X.shape, y.shape)"
   ]
  },
  {
   "cell_type": "markdown",
   "id": "9878d0be",
   "metadata": {},
   "source": [
    "### SVC + Standard Scaler "
   ]
  },
  {
   "cell_type": "code",
   "execution_count": 14,
   "id": "a348b7e7",
   "metadata": {},
   "outputs": [
    {
     "name": "stderr",
     "output_type": "stream",
     "text": [
      "C:\\Users\\acer\\AppData\\Local\\Temp\\ipykernel_8916\\2169775392.py:67: FutureWarning: Setting an item of incompatible dtype is deprecated and will raise an error in a future version of pandas. Value 'Mean' has dtype incompatible with float64, please explicitly cast to a compatible dtype first.\n",
      "  mean_row[\"Fold\"] = \"Mean\"\n",
      "C:\\Users\\acer\\AppData\\Local\\Temp\\ipykernel_8916\\2169775392.py:69: FutureWarning: Setting an item of incompatible dtype is deprecated and will raise an error in a future version of pandas. Value 'Std' has dtype incompatible with float64, please explicitly cast to a compatible dtype first.\n",
      "  std_row[\"Fold\"] = \"Std\"\n"
     ]
    },
    {
     "data": {
      "application/vnd.microsoft.datawrangler.viewer.v0+json": {
       "columns": [
        {
         "name": "index",
         "rawType": "int64",
         "type": "integer"
        },
        {
         "name": "Fold",
         "rawType": "object",
         "type": "unknown"
        },
        {
         "name": "Accuracy_Combined",
         "rawType": "float64",
         "type": "float"
        },
        {
         "name": "Accuracy_Column",
         "rawType": "float64",
         "type": "float"
        },
        {
         "name": "Accuracy_Row",
         "rawType": "float64",
         "type": "float"
        }
       ],
       "ref": "574a4049-a8e2-48a4-9994-95426cf6e1f2",
       "rows": [
        [
         "0",
         "0",
         "0.0",
         "0.0",
         "0.5"
        ],
        [
         "1",
         "1",
         "0.0",
         "0.5",
         "0.0"
        ],
        [
         "2",
         "2",
         "0.0",
         "0.0",
         "0.0"
        ],
        [
         "3",
         "3",
         "0.5",
         "1.0",
         "0.5"
        ],
        [
         "4",
         "4",
         "0.5",
         "0.5",
         "0.5"
        ],
        [
         "5",
         "Mean",
         "0.2",
         "0.4",
         "0.3"
        ],
        [
         "6",
         "Std",
         "0.2738612787525831",
         "0.4183300132670378",
         "0.2738612787525831"
        ]
       ],
       "shape": {
        "columns": 4,
        "rows": 7
       }
      },
      "text/html": [
       "<div>\n",
       "<style scoped>\n",
       "    .dataframe tbody tr th:only-of-type {\n",
       "        vertical-align: middle;\n",
       "    }\n",
       "\n",
       "    .dataframe tbody tr th {\n",
       "        vertical-align: top;\n",
       "    }\n",
       "\n",
       "    .dataframe thead th {\n",
       "        text-align: right;\n",
       "    }\n",
       "</style>\n",
       "<table border=\"1\" class=\"dataframe\">\n",
       "  <thead>\n",
       "    <tr style=\"text-align: right;\">\n",
       "      <th></th>\n",
       "      <th>Fold</th>\n",
       "      <th>Accuracy_Combined</th>\n",
       "      <th>Accuracy_Column</th>\n",
       "      <th>Accuracy_Row</th>\n",
       "    </tr>\n",
       "  </thead>\n",
       "  <tbody>\n",
       "    <tr>\n",
       "      <th>0</th>\n",
       "      <td>0</td>\n",
       "      <td>0.000000</td>\n",
       "      <td>0.00000</td>\n",
       "      <td>0.500000</td>\n",
       "    </tr>\n",
       "    <tr>\n",
       "      <th>1</th>\n",
       "      <td>1</td>\n",
       "      <td>0.000000</td>\n",
       "      <td>0.50000</td>\n",
       "      <td>0.000000</td>\n",
       "    </tr>\n",
       "    <tr>\n",
       "      <th>2</th>\n",
       "      <td>2</td>\n",
       "      <td>0.000000</td>\n",
       "      <td>0.00000</td>\n",
       "      <td>0.000000</td>\n",
       "    </tr>\n",
       "    <tr>\n",
       "      <th>3</th>\n",
       "      <td>3</td>\n",
       "      <td>0.500000</td>\n",
       "      <td>1.00000</td>\n",
       "      <td>0.500000</td>\n",
       "    </tr>\n",
       "    <tr>\n",
       "      <th>4</th>\n",
       "      <td>4</td>\n",
       "      <td>0.500000</td>\n",
       "      <td>0.50000</td>\n",
       "      <td>0.500000</td>\n",
       "    </tr>\n",
       "    <tr>\n",
       "      <th>5</th>\n",
       "      <td>Mean</td>\n",
       "      <td>0.200000</td>\n",
       "      <td>0.40000</td>\n",
       "      <td>0.300000</td>\n",
       "    </tr>\n",
       "    <tr>\n",
       "      <th>6</th>\n",
       "      <td>Std</td>\n",
       "      <td>0.273861</td>\n",
       "      <td>0.41833</td>\n",
       "      <td>0.273861</td>\n",
       "    </tr>\n",
       "  </tbody>\n",
       "</table>\n",
       "</div>"
      ],
      "text/plain": [
       "   Fold  Accuracy_Combined  Accuracy_Column  Accuracy_Row\n",
       "0     0           0.000000          0.00000      0.500000\n",
       "1     1           0.000000          0.50000      0.000000\n",
       "2     2           0.000000          0.00000      0.000000\n",
       "3     3           0.500000          1.00000      0.500000\n",
       "4     4           0.500000          0.50000      0.500000\n",
       "5  Mean           0.200000          0.40000      0.300000\n",
       "6   Std           0.273861          0.41833      0.273861"
      ]
     },
     "metadata": {},
     "output_type": "display_data"
    }
   ],
   "source": [
    "num_folds = 2\n",
    "rows_per_fold = 12\n",
    "\n",
    "# Session splits\n",
    "session_splits = {\n",
    "    0: np.arange(0, 12),    \n",
    "    1: np.arange(12, 24),   \n",
    "    2: np.arange(24, 36),\n",
    "    3: np.arange(36, 48),    \n",
    "    4: np.arange(48, 60)    \n",
    "}\n",
    "\n",
    "results = []\n",
    "num_folds = 5\n",
    "\n",
    "for test_fold in range(num_folds):\n",
    "    test_trials = session_splits[test_fold]\n",
    "    train_trials = np.setdiff1d(np.arange(60), test_trials)\n",
    "\n",
    "    X_train_full, X_test_full = X[train_trials], X[test_trials]\n",
    "    y_train, y_test = y[train_trials], y[test_trials]\n",
    "\n",
    "    # === Feature selection ===\n",
    "    X_train, selected_idx = select_top_k_fisher_multiclass(X_train_full, y_train, k=10)\n",
    "    X_test = X_test_full[:, selected_idx]\n",
    "\n",
    "    # === Feature Scaling ===\n",
    "    scaler = StandardScaler()\n",
    "    X_train_scaled = scaler.fit_transform(X_train)\n",
    "    X_test_scaled = scaler.transform(X_test)\n",
    "\n",
    "    # === Train classifier ===\n",
    "    clf = SVC(kernel='linear', probability=True, random_state=42)\n",
    "    clf.fit(X_train_scaled, y_train)\n",
    "    y_probs = clf.predict_proba(X_test_scaled)[:, 1]\n",
    "\n",
    "    # === WTA evaluation ===\n",
    "    correct_combined = 0\n",
    "    correct_column = 0\n",
    "    correct_row = 0\n",
    "\n",
    "    for i in range(0, len(y_test), 6):\n",
    "        block_probs = y_probs[i:i+6]\n",
    "        block_y = y_test[i:i+6]\n",
    "\n",
    "        top_col = np.argmax(block_probs[0:3])\n",
    "        top_row = np.argmax(block_probs[3:6])\n",
    "\n",
    "        correct_col = np.argmax(block_y[0:3])\n",
    "        correct_row_val = np.argmax(block_y[3:6])\n",
    "\n",
    "        correct_column += (top_col == correct_col)\n",
    "        correct_row += (top_row == correct_row_val)\n",
    "        correct_combined += ((top_col == correct_col) and (top_row == correct_row_val))\n",
    "\n",
    "    fold_result = {\n",
    "        \"Fold\": test_fold,\n",
    "        \"Accuracy_Combined\": correct_combined / (len(y_test) // 6),\n",
    "        \"Accuracy_Column\": correct_column / (len(y_test) // 6),\n",
    "        \"Accuracy_Row\": correct_row / (len(y_test) // 6),\n",
    "    }\n",
    "\n",
    "    results.append(fold_result)\n",
    "\n",
    "df_results = pd.DataFrame(results)\n",
    "mean_row = df_results.mean(numeric_only=True)\n",
    "mean_row[\"Fold\"] = \"Mean\"\n",
    "std_row = df_results.std(numeric_only=True)\n",
    "std_row[\"Fold\"] = \"Std\"\n",
    "df_results = pd.concat([df_results, pd.DataFrame([mean_row, std_row])], ignore_index=True)\n",
    "display(df_results)"
   ]
  },
  {
   "cell_type": "markdown",
   "id": "f8f22d8c",
   "metadata": {},
   "source": [
    "### LDA"
   ]
  },
  {
   "cell_type": "code",
   "execution_count": 15,
   "id": "07757e31",
   "metadata": {},
   "outputs": [
    {
     "name": "stderr",
     "output_type": "stream",
     "text": [
      "C:\\Users\\acer\\AppData\\Local\\Temp\\ipykernel_8916\\2860962119.py:47: FutureWarning: Setting an item of incompatible dtype is deprecated and will raise an error in a future version of pandas. Value 'Mean' has dtype incompatible with float64, please explicitly cast to a compatible dtype first.\n",
      "  mean_row[\"Fold\"] = \"Mean\"\n",
      "C:\\Users\\acer\\AppData\\Local\\Temp\\ipykernel_8916\\2860962119.py:49: FutureWarning: Setting an item of incompatible dtype is deprecated and will raise an error in a future version of pandas. Value 'Std' has dtype incompatible with float64, please explicitly cast to a compatible dtype first.\n",
      "  std_row[\"Fold\"] = \"Std\"\n"
     ]
    },
    {
     "data": {
      "application/vnd.microsoft.datawrangler.viewer.v0+json": {
       "columns": [
        {
         "name": "index",
         "rawType": "int64",
         "type": "integer"
        },
        {
         "name": "Fold",
         "rawType": "object",
         "type": "unknown"
        },
        {
         "name": "Accuracy_Combined",
         "rawType": "float64",
         "type": "float"
        },
        {
         "name": "Accuracy_Column",
         "rawType": "float64",
         "type": "float"
        },
        {
         "name": "Accuracy_Row",
         "rawType": "float64",
         "type": "float"
        }
       ],
       "ref": "fe152ed6-76da-47a2-a6a4-6bf9686a9388",
       "rows": [
        [
         "0",
         "0",
         "0.0",
         "0.0",
         "0.5"
        ],
        [
         "1",
         "1",
         "0.5",
         "0.5",
         "0.5"
        ],
        [
         "2",
         "2",
         "0.0",
         "0.5",
         "0.0"
        ],
        [
         "3",
         "3",
         "0.5",
         "0.5",
         "0.5"
        ],
        [
         "4",
         "4",
         "0.0",
         "0.0",
         "0.5"
        ],
        [
         "5",
         "Mean",
         "0.2",
         "0.3",
         "0.4"
        ],
        [
         "6",
         "Std",
         "0.2738612787525831",
         "0.2738612787525831",
         "0.22360679774997896"
        ]
       ],
       "shape": {
        "columns": 4,
        "rows": 7
       }
      },
      "text/html": [
       "<div>\n",
       "<style scoped>\n",
       "    .dataframe tbody tr th:only-of-type {\n",
       "        vertical-align: middle;\n",
       "    }\n",
       "\n",
       "    .dataframe tbody tr th {\n",
       "        vertical-align: top;\n",
       "    }\n",
       "\n",
       "    .dataframe thead th {\n",
       "        text-align: right;\n",
       "    }\n",
       "</style>\n",
       "<table border=\"1\" class=\"dataframe\">\n",
       "  <thead>\n",
       "    <tr style=\"text-align: right;\">\n",
       "      <th></th>\n",
       "      <th>Fold</th>\n",
       "      <th>Accuracy_Combined</th>\n",
       "      <th>Accuracy_Column</th>\n",
       "      <th>Accuracy_Row</th>\n",
       "    </tr>\n",
       "  </thead>\n",
       "  <tbody>\n",
       "    <tr>\n",
       "      <th>0</th>\n",
       "      <td>0</td>\n",
       "      <td>0.000000</td>\n",
       "      <td>0.000000</td>\n",
       "      <td>0.500000</td>\n",
       "    </tr>\n",
       "    <tr>\n",
       "      <th>1</th>\n",
       "      <td>1</td>\n",
       "      <td>0.500000</td>\n",
       "      <td>0.500000</td>\n",
       "      <td>0.500000</td>\n",
       "    </tr>\n",
       "    <tr>\n",
       "      <th>2</th>\n",
       "      <td>2</td>\n",
       "      <td>0.000000</td>\n",
       "      <td>0.500000</td>\n",
       "      <td>0.000000</td>\n",
       "    </tr>\n",
       "    <tr>\n",
       "      <th>3</th>\n",
       "      <td>3</td>\n",
       "      <td>0.500000</td>\n",
       "      <td>0.500000</td>\n",
       "      <td>0.500000</td>\n",
       "    </tr>\n",
       "    <tr>\n",
       "      <th>4</th>\n",
       "      <td>4</td>\n",
       "      <td>0.000000</td>\n",
       "      <td>0.000000</td>\n",
       "      <td>0.500000</td>\n",
       "    </tr>\n",
       "    <tr>\n",
       "      <th>5</th>\n",
       "      <td>Mean</td>\n",
       "      <td>0.200000</td>\n",
       "      <td>0.300000</td>\n",
       "      <td>0.400000</td>\n",
       "    </tr>\n",
       "    <tr>\n",
       "      <th>6</th>\n",
       "      <td>Std</td>\n",
       "      <td>0.273861</td>\n",
       "      <td>0.273861</td>\n",
       "      <td>0.223607</td>\n",
       "    </tr>\n",
       "  </tbody>\n",
       "</table>\n",
       "</div>"
      ],
      "text/plain": [
       "   Fold  Accuracy_Combined  Accuracy_Column  Accuracy_Row\n",
       "0     0           0.000000         0.000000      0.500000\n",
       "1     1           0.500000         0.500000      0.500000\n",
       "2     2           0.000000         0.500000      0.000000\n",
       "3     3           0.500000         0.500000      0.500000\n",
       "4     4           0.000000         0.000000      0.500000\n",
       "5  Mean           0.200000         0.300000      0.400000\n",
       "6   Std           0.273861         0.273861      0.223607"
      ]
     },
     "metadata": {},
     "output_type": "display_data"
    }
   ],
   "source": [
    "results = []\n",
    "\n",
    "for test_fold in range(5):\n",
    "    test_trials = session_splits[test_fold]\n",
    "    train_trials = np.setdiff1d(np.arange(60), test_trials)\n",
    "\n",
    "    X_train_full, X_test_full = X[train_trials], X[test_trials]\n",
    "    y_train, y_test = y[train_trials], y[test_trials]\n",
    "\n",
    "\n",
    "    # === Train LDA classifier ===\n",
    "    clf = LDA()\n",
    "    clf.fit(X_train, y_train)\n",
    "    y_probs = clf.predict_proba(X_test)[:, 1]\n",
    "\n",
    "    # === WTA evaluation ===\n",
    "    correct_combined = 0\n",
    "    correct_column = 0\n",
    "    correct_row = 0\n",
    "\n",
    "    for i in range(0, len(y_test), 6):\n",
    "        block_probs = y_probs[i:i+6]\n",
    "        block_y = y_test[i:i+6]\n",
    "\n",
    "        top_col = np.argmax(block_probs[0:3])\n",
    "        top_row = np.argmax(block_probs[3:6])\n",
    "\n",
    "        correct_col = np.argmax(block_y[0:3])\n",
    "        correct_row_val = np.argmax(block_y[3:6])\n",
    "\n",
    "        correct_column += (top_col == correct_col)\n",
    "        correct_row += (top_row == correct_row_val)\n",
    "        correct_combined += ((top_col == correct_col) and (top_row == correct_row_val))\n",
    "\n",
    "    fold_result = {\n",
    "        \"Fold\": test_fold,\n",
    "        \"Accuracy_Combined\": correct_combined / (len(y_test) // 6),\n",
    "        \"Accuracy_Column\": correct_column / (len(y_test) // 6),\n",
    "        \"Accuracy_Row\": correct_row / (len(y_test) // 6),\n",
    "    }\n",
    "\n",
    "    results.append(fold_result)\n",
    "\n",
    "# === Summary\n",
    "df_results = pd.DataFrame(results)\n",
    "mean_row = df_results.mean(numeric_only=True)\n",
    "mean_row[\"Fold\"] = \"Mean\"\n",
    "std_row = df_results.std(numeric_only=True)\n",
    "std_row[\"Fold\"] = \"Std\"\n",
    "df_results = pd.concat([df_results, pd.DataFrame([mean_row, std_row])], ignore_index=True)\n",
    "\n",
    "display(df_results)"
   ]
  },
  {
   "cell_type": "code",
   "execution_count": 16,
   "id": "e1ae3da0",
   "metadata": {},
   "outputs": [
    {
     "name": "stderr",
     "output_type": "stream",
     "text": [
      "C:\\Users\\acer\\AppData\\Local\\Temp\\ipykernel_8916\\1460323077.py:56: FutureWarning: Setting an item of incompatible dtype is deprecated and will raise an error in a future version of pandas. Value 'Mean' has dtype incompatible with float64, please explicitly cast to a compatible dtype first.\n",
      "  mean_row[\"Fold\"] = \"Mean\"\n",
      "C:\\Users\\acer\\AppData\\Local\\Temp\\ipykernel_8916\\1460323077.py:58: FutureWarning: Setting an item of incompatible dtype is deprecated and will raise an error in a future version of pandas. Value 'Std' has dtype incompatible with float64, please explicitly cast to a compatible dtype first.\n",
      "  std_row[\"Fold\"] = \"Std\"\n"
     ]
    },
    {
     "data": {
      "application/vnd.microsoft.datawrangler.viewer.v0+json": {
       "columns": [
        {
         "name": "index",
         "rawType": "int64",
         "type": "integer"
        },
        {
         "name": "Fold",
         "rawType": "object",
         "type": "unknown"
        },
        {
         "name": "Accuracy_Combined",
         "rawType": "float64",
         "type": "float"
        },
        {
         "name": "Accuracy_Column",
         "rawType": "float64",
         "type": "float"
        },
        {
         "name": "Accuracy_Row",
         "rawType": "float64",
         "type": "float"
        }
       ],
       "ref": "29bf32ac-0064-4848-8489-ce695ed63488",
       "rows": [
        [
         "0",
         "0",
         "0.0",
         "0.0",
         "0.0"
        ],
        [
         "1",
         "1",
         "0.0",
         "0.5",
         "0.0"
        ],
        [
         "2",
         "2",
         "0.0",
         "0.5",
         "0.0"
        ],
        [
         "3",
         "3",
         "0.5",
         "0.5",
         "0.5"
        ],
        [
         "4",
         "4",
         "0.5",
         "0.5",
         "0.5"
        ],
        [
         "5",
         "Mean",
         "0.2",
         "0.4",
         "0.2"
        ],
        [
         "6",
         "Std",
         "0.2738612787525831",
         "0.22360679774997902",
         "0.2738612787525831"
        ]
       ],
       "shape": {
        "columns": 4,
        "rows": 7
       }
      },
      "text/html": [
       "<div>\n",
       "<style scoped>\n",
       "    .dataframe tbody tr th:only-of-type {\n",
       "        vertical-align: middle;\n",
       "    }\n",
       "\n",
       "    .dataframe tbody tr th {\n",
       "        vertical-align: top;\n",
       "    }\n",
       "\n",
       "    .dataframe thead th {\n",
       "        text-align: right;\n",
       "    }\n",
       "</style>\n",
       "<table border=\"1\" class=\"dataframe\">\n",
       "  <thead>\n",
       "    <tr style=\"text-align: right;\">\n",
       "      <th></th>\n",
       "      <th>Fold</th>\n",
       "      <th>Accuracy_Combined</th>\n",
       "      <th>Accuracy_Column</th>\n",
       "      <th>Accuracy_Row</th>\n",
       "    </tr>\n",
       "  </thead>\n",
       "  <tbody>\n",
       "    <tr>\n",
       "      <th>0</th>\n",
       "      <td>0</td>\n",
       "      <td>0.000000</td>\n",
       "      <td>0.000000</td>\n",
       "      <td>0.000000</td>\n",
       "    </tr>\n",
       "    <tr>\n",
       "      <th>1</th>\n",
       "      <td>1</td>\n",
       "      <td>0.000000</td>\n",
       "      <td>0.500000</td>\n",
       "      <td>0.000000</td>\n",
       "    </tr>\n",
       "    <tr>\n",
       "      <th>2</th>\n",
       "      <td>2</td>\n",
       "      <td>0.000000</td>\n",
       "      <td>0.500000</td>\n",
       "      <td>0.000000</td>\n",
       "    </tr>\n",
       "    <tr>\n",
       "      <th>3</th>\n",
       "      <td>3</td>\n",
       "      <td>0.500000</td>\n",
       "      <td>0.500000</td>\n",
       "      <td>0.500000</td>\n",
       "    </tr>\n",
       "    <tr>\n",
       "      <th>4</th>\n",
       "      <td>4</td>\n",
       "      <td>0.500000</td>\n",
       "      <td>0.500000</td>\n",
       "      <td>0.500000</td>\n",
       "    </tr>\n",
       "    <tr>\n",
       "      <th>5</th>\n",
       "      <td>Mean</td>\n",
       "      <td>0.200000</td>\n",
       "      <td>0.400000</td>\n",
       "      <td>0.200000</td>\n",
       "    </tr>\n",
       "    <tr>\n",
       "      <th>6</th>\n",
       "      <td>Std</td>\n",
       "      <td>0.273861</td>\n",
       "      <td>0.223607</td>\n",
       "      <td>0.273861</td>\n",
       "    </tr>\n",
       "  </tbody>\n",
       "</table>\n",
       "</div>"
      ],
      "text/plain": [
       "   Fold  Accuracy_Combined  Accuracy_Column  Accuracy_Row\n",
       "0     0           0.000000         0.000000      0.000000\n",
       "1     1           0.000000         0.500000      0.000000\n",
       "2     2           0.000000         0.500000      0.000000\n",
       "3     3           0.500000         0.500000      0.500000\n",
       "4     4           0.500000         0.500000      0.500000\n",
       "5  Mean           0.200000         0.400000      0.200000\n",
       "6   Std           0.273861         0.223607      0.273861"
      ]
     },
     "metadata": {},
     "output_type": "display_data"
    }
   ],
   "source": [
    "selected_idx = [3, 11, 24, 26, 27]\n",
    "results = []\n",
    "num_folds = 5\n",
    "\n",
    "for test_fold in range(num_folds):\n",
    "    test_trials = session_splits[test_fold]\n",
    "    train_trials = np.setdiff1d(np.arange(300), test_trials)\n",
    "\n",
    "    X_train_full, X_test_full = X[train_trials], X[test_trials]\n",
    "    y_train, y_test = y[train_trials], y[test_trials]\n",
    "\n",
    "    # === Feature selection ===\n",
    "    X_train = X_train_full[:, selected_idx]\n",
    "    X_test = X_test_full[:, selected_idx]\n",
    "\n",
    "    # === Feature Scaling ===\n",
    "    scaler = StandardScaler()\n",
    "    X_train_scaled = scaler.fit_transform(X_train)\n",
    "    X_test_scaled = scaler.transform(X_test)\n",
    "\n",
    "    # === Train classifier ===\n",
    "    clf = SVC(kernel='linear', probability=True, random_state=42)\n",
    "    clf.fit(X_train_scaled, y_train)\n",
    "    y_probs = clf.predict_proba(X_test_scaled)[:, 1]\n",
    "\n",
    "    # === WTA evaluation ===\n",
    "    correct_combined = 0\n",
    "    correct_column = 0\n",
    "    correct_row = 0\n",
    "\n",
    "    for i in range(0, len(y_test), 6):\n",
    "        block_probs = y_probs[i:i+6]\n",
    "        block_y = y_test[i:i+6]\n",
    "\n",
    "        top_col = np.argmax(block_probs[0:3])\n",
    "        top_row = np.argmax(block_probs[3:6])\n",
    "\n",
    "        correct_col = np.argmax(block_y[0:3])\n",
    "        correct_row_val = np.argmax(block_y[3:6])\n",
    "\n",
    "        correct_column += (top_col == correct_col)\n",
    "        correct_row += (top_row == correct_row_val)\n",
    "        correct_combined += ((top_col == correct_col) and (top_row == correct_row_val))\n",
    "\n",
    "    fold_result = {\n",
    "        \"Fold\": test_fold,\n",
    "        \"Accuracy_Combined\": correct_combined / (len(y_test) // 6),\n",
    "        \"Accuracy_Column\": correct_column / (len(y_test) // 6),\n",
    "        \"Accuracy_Row\": correct_row / (len(y_test) // 6),\n",
    "    }\n",
    "\n",
    "    results.append(fold_result)\n",
    "\n",
    "df_results = pd.DataFrame(results)\n",
    "mean_row = df_results.mean(numeric_only=True)\n",
    "mean_row[\"Fold\"] = \"Mean\"\n",
    "std_row = df_results.std(numeric_only=True)\n",
    "std_row[\"Fold\"] = \"Std\"\n",
    "df_results = pd.concat([df_results, pd.DataFrame([mean_row, std_row])], ignore_index=True)\n",
    "display(df_results)"
   ]
  },
  {
   "cell_type": "code",
   "execution_count": 18,
   "id": "73917c35",
   "metadata": {},
   "outputs": [
    {
     "name": "stderr",
     "output_type": "stream",
     "text": [
      "C:\\Users\\acer\\AppData\\Local\\Temp\\ipykernel_8916\\2798780079.py:50: FutureWarning: Setting an item of incompatible dtype is deprecated and will raise an error in a future version of pandas. Value 'Mean' has dtype incompatible with float64, please explicitly cast to a compatible dtype first.\n",
      "  mean_row[\"Fold\"] = \"Mean\"\n",
      "C:\\Users\\acer\\AppData\\Local\\Temp\\ipykernel_8916\\2798780079.py:52: FutureWarning: Setting an item of incompatible dtype is deprecated and will raise an error in a future version of pandas. Value 'Std' has dtype incompatible with float64, please explicitly cast to a compatible dtype first.\n",
      "  std_row[\"Fold\"] = \"Std\"\n"
     ]
    },
    {
     "data": {
      "application/vnd.microsoft.datawrangler.viewer.v0+json": {
       "columns": [
        {
         "name": "index",
         "rawType": "int64",
         "type": "integer"
        },
        {
         "name": "Fold",
         "rawType": "object",
         "type": "unknown"
        },
        {
         "name": "Accuracy_Combined",
         "rawType": "float64",
         "type": "float"
        },
        {
         "name": "Accuracy_Column",
         "rawType": "float64",
         "type": "float"
        },
        {
         "name": "Accuracy_Row",
         "rawType": "float64",
         "type": "float"
        }
       ],
       "ref": "ab83c0e3-f7eb-41ef-8acd-c580b6254d3f",
       "rows": [
        [
         "0",
         "0",
         "0.0",
         "0.0",
         "0.5"
        ],
        [
         "1",
         "1",
         "0.0",
         "0.5",
         "0.0"
        ],
        [
         "2",
         "2",
         "0.0",
         "0.5",
         "0.0"
        ],
        [
         "3",
         "3",
         "0.0",
         "0.0",
         "0.0"
        ],
        [
         "4",
         "4",
         "0.0",
         "0.0",
         "0.0"
        ],
        [
         "5",
         "Mean",
         "0.0",
         "0.2",
         "0.1"
        ],
        [
         "6",
         "Std",
         "0.0",
         "0.2738612787525831",
         "0.22360679774997902"
        ]
       ],
       "shape": {
        "columns": 4,
        "rows": 7
       }
      },
      "text/html": [
       "<div>\n",
       "<style scoped>\n",
       "    .dataframe tbody tr th:only-of-type {\n",
       "        vertical-align: middle;\n",
       "    }\n",
       "\n",
       "    .dataframe tbody tr th {\n",
       "        vertical-align: top;\n",
       "    }\n",
       "\n",
       "    .dataframe thead th {\n",
       "        text-align: right;\n",
       "    }\n",
       "</style>\n",
       "<table border=\"1\" class=\"dataframe\">\n",
       "  <thead>\n",
       "    <tr style=\"text-align: right;\">\n",
       "      <th></th>\n",
       "      <th>Fold</th>\n",
       "      <th>Accuracy_Combined</th>\n",
       "      <th>Accuracy_Column</th>\n",
       "      <th>Accuracy_Row</th>\n",
       "    </tr>\n",
       "  </thead>\n",
       "  <tbody>\n",
       "    <tr>\n",
       "      <th>0</th>\n",
       "      <td>0</td>\n",
       "      <td>0.0</td>\n",
       "      <td>0.000000</td>\n",
       "      <td>0.500000</td>\n",
       "    </tr>\n",
       "    <tr>\n",
       "      <th>1</th>\n",
       "      <td>1</td>\n",
       "      <td>0.0</td>\n",
       "      <td>0.500000</td>\n",
       "      <td>0.000000</td>\n",
       "    </tr>\n",
       "    <tr>\n",
       "      <th>2</th>\n",
       "      <td>2</td>\n",
       "      <td>0.0</td>\n",
       "      <td>0.500000</td>\n",
       "      <td>0.000000</td>\n",
       "    </tr>\n",
       "    <tr>\n",
       "      <th>3</th>\n",
       "      <td>3</td>\n",
       "      <td>0.0</td>\n",
       "      <td>0.000000</td>\n",
       "      <td>0.000000</td>\n",
       "    </tr>\n",
       "    <tr>\n",
       "      <th>4</th>\n",
       "      <td>4</td>\n",
       "      <td>0.0</td>\n",
       "      <td>0.000000</td>\n",
       "      <td>0.000000</td>\n",
       "    </tr>\n",
       "    <tr>\n",
       "      <th>5</th>\n",
       "      <td>Mean</td>\n",
       "      <td>0.0</td>\n",
       "      <td>0.200000</td>\n",
       "      <td>0.100000</td>\n",
       "    </tr>\n",
       "    <tr>\n",
       "      <th>6</th>\n",
       "      <td>Std</td>\n",
       "      <td>0.0</td>\n",
       "      <td>0.273861</td>\n",
       "      <td>0.223607</td>\n",
       "    </tr>\n",
       "  </tbody>\n",
       "</table>\n",
       "</div>"
      ],
      "text/plain": [
       "   Fold  Accuracy_Combined  Accuracy_Column  Accuracy_Row\n",
       "0     0                0.0         0.000000      0.500000\n",
       "1     1                0.0         0.500000      0.000000\n",
       "2     2                0.0         0.500000      0.000000\n",
       "3     3                0.0         0.000000      0.000000\n",
       "4     4                0.0         0.000000      0.000000\n",
       "5  Mean                0.0         0.200000      0.100000\n",
       "6   Std                0.0         0.273861      0.223607"
      ]
     },
     "metadata": {},
     "output_type": "display_data"
    }
   ],
   "source": [
    "results = []\n",
    "\n",
    "for test_fold in range(5):\n",
    "    test_trials = session_splits[test_fold]\n",
    "    train_trials = np.setdiff1d(np.arange(60), test_trials)\n",
    "\n",
    "    X_train_full, X_test_full = X[train_trials], X[test_trials]\n",
    "    y_train, y_test = y[train_trials], y[test_trials]\n",
    "\n",
    "    # === Feature selection ===\n",
    "    X_train = X_train_full[:, selected_idx]\n",
    "    X_test = X_test_full[:, selected_idx]\n",
    "\n",
    "    # === Train LDA classifier ===\n",
    "    clf = LDA()\n",
    "    clf.fit(X_train, y_train)\n",
    "    y_probs = clf.predict_proba(X_test)[:, 1]\n",
    "\n",
    "    # === WTA evaluation ===\n",
    "    correct_combined = 0\n",
    "    correct_column = 0\n",
    "    correct_row = 0\n",
    "\n",
    "    for i in range(0, len(y_test), 6):\n",
    "        block_probs = y_probs[i:i+6]\n",
    "        block_y = y_test[i:i+6]\n",
    "\n",
    "        top_col = np.argmax(block_probs[0:3])\n",
    "        top_row = np.argmax(block_probs[3:6])\n",
    "\n",
    "        correct_col = np.argmax(block_y[0:3])\n",
    "        correct_row_val = np.argmax(block_y[3:6])\n",
    "\n",
    "        correct_column += (top_col == correct_col)\n",
    "        correct_row += (top_row == correct_row_val)\n",
    "        correct_combined += ((top_col == correct_col) and (top_row == correct_row_val))\n",
    "\n",
    "    fold_result = {\n",
    "        \"Fold\": test_fold,\n",
    "        \"Accuracy_Combined\": correct_combined / (len(y_test) // 6),\n",
    "        \"Accuracy_Column\": correct_column / (len(y_test) // 6),\n",
    "        \"Accuracy_Row\": correct_row / (len(y_test) // 6),\n",
    "    }\n",
    "\n",
    "    results.append(fold_result)\n",
    "\n",
    "# === Summary\n",
    "df_results = pd.DataFrame(results)\n",
    "mean_row = df_results.mean(numeric_only=True)\n",
    "mean_row[\"Fold\"] = \"Mean\"\n",
    "std_row = df_results.std(numeric_only=True)\n",
    "std_row[\"Fold\"] = \"Std\"\n",
    "df_results = pd.concat([df_results, pd.DataFrame([mean_row, std_row])], ignore_index=True)\n",
    "\n",
    "display(df_results)"
   ]
  },
  {
   "cell_type": "markdown",
   "id": "73619f69",
   "metadata": {},
   "source": [
    "# It Doesn't work for real time we can just use "
   ]
  },
  {
   "cell_type": "code",
   "execution_count": null,
   "id": "12b0e413",
   "metadata": {},
   "outputs": [],
   "source": [
    "method= \"A1\"\n",
    "feature_types=[\"B3\"]"
   ]
  },
  {
   "cell_type": "code",
   "execution_count": 22,
   "id": "6c945f1c",
   "metadata": {},
   "outputs": [
    {
     "name": "stdout",
     "output_type": "stream",
     "text": [
      "LDA model saved to lda_model.joblib\n"
     ]
    }
   ],
   "source": [
    "import joblib\n",
    "from sklearn.discriminant_analysis import LinearDiscriminantAnalysis as LDA\n",
    "\n",
    "# === Train LDA on full dataset ===\n",
    "lda_full = LDA()\n",
    "lda_full.fit(X, y)\n",
    "\n",
    "# === Save the model ===\n",
    "joblib.dump(lda_full, \"lda_model.joblib\")\n",
    "print(\"LDA model saved to lda_model.joblib\")"
   ]
  },
  {
   "cell_type": "code",
   "execution_count": null,
   "id": "555684c4",
   "metadata": {},
   "outputs": [],
   "source": [
    "# Load the signal recording data\n",
    "base_path = Path.cwd().parent  / \"data\"/ \"ehehehe\"  # Whereever we upload for 1 trial   \n",
    "selected_idx = [3, 11, 24, 26, 27]                                                 \n",
    "df_combined = process_and_combine_all_csvs(base_path,blink_rejection=False, normalization=method)\n",
    "X, y = extract_features_from_df_combined(df_combined, fs=128, feature_types = feature_types)"
   ]
  },
  {
   "cell_type": "code",
   "execution_count": 24,
   "id": "d51efc5e",
   "metadata": {},
   "outputs": [
    {
     "name": "stdout",
     "output_type": "stream",
     "text": [
      "Predicted column: 0\n",
      "Predicted row: 1\n"
     ]
    }
   ],
   "source": [
    "# Load model\n",
    "lda_loaded = joblib.load(\"lda_model.joblib\")\n",
    "\n",
    "# Predict probabilities (for class 1, i.e., target)\n",
    "y_probs = lda_loaded.predict_proba(X)[:, 1]\n",
    "\n",
    "# Split into column and row\n",
    "col_index = np.argmax(y_probs[0:3])  # Top from first 3\n",
    "row_index = np.argmax(y_probs[3:6])  # Top from last 3\n",
    "\n",
    "print(\"Predicted column:\", col_index)\n",
    "print(\"Predicted row:\", row_index)"
   ]
  },
  {
   "cell_type": "code",
   "execution_count": null,
   "id": "724ef922",
   "metadata": {},
   "outputs": [],
   "source": []
  }
 ],
 "metadata": {
  "kernelspec": {
   "display_name": "Python 3",
   "language": "python",
   "name": "python3"
  },
  "language_info": {
   "codemirror_mode": {
    "name": "ipython",
    "version": 3
   },
   "file_extension": ".py",
   "mimetype": "text/x-python",
   "name": "python",
   "nbconvert_exporter": "python",
   "pygments_lexer": "ipython3",
   "version": "3.11.8"
  }
 },
 "nbformat": 4,
 "nbformat_minor": 5
}
