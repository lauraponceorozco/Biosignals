{
 "cells": [
  {
   "cell_type": "code",
   "execution_count": 1,
   "id": "ddd17ca7",
   "metadata": {},
   "outputs": [],
   "source": [
    "%matplotlib widget\n",
    "from pathlib import Path\n",
    "import numpy as np\n",
    "import pandas as pd\n",
    "import matplotlib.pyplot as plt\n",
    "import mne"
   ]
  },
  {
   "cell_type": "code",
   "execution_count": 2,
   "id": "6660bb08",
   "metadata": {},
   "outputs": [],
   "source": [
    "%load_ext autoreload\n",
    "%autoreload 2\n",
    "%aimport help_func\n",
    "\n",
    "from help_func import *\n"
   ]
  },
  {
   "cell_type": "code",
   "execution_count": 3,
   "id": "dbbf2ee8",
   "metadata": {},
   "outputs": [
    {
     "ename": "NameError",
     "evalue": "name 'interpolate_plateaus_in_ux' is not defined",
     "output_type": "error",
     "traceback": [
      "\u001b[31m---------------------------------------------------------------------------\u001b[39m",
      "\u001b[31mNameError\u001b[39m                                 Traceback (most recent call last)",
      "\u001b[36mCell\u001b[39m\u001b[36m \u001b[39m\u001b[32mIn[3]\u001b[39m\u001b[32m, line 7\u001b[39m\n\u001b[32m      4\u001b[39m df_gui = pd.read_csv(base_path /\u001b[33m\"\u001b[39m\u001b[33msession_20250710_1721_Ege\u001b[39m\u001b[33m\"\u001b[39m/ \u001b[33m'\u001b[39m\u001b[33mgui_data.csv\u001b[39m\u001b[33m'\u001b[39m)\n\u001b[32m      6\u001b[39m \u001b[38;5;66;03m# Interpolate plateaus in ux timestamp\u001b[39;00m\n\u001b[32m----> \u001b[39m\u001b[32m7\u001b[39m df_eeg = \u001b[43minterpolate_plateaus_in_ux\u001b[49m(df_eeg)\n",
      "\u001b[31mNameError\u001b[39m: name 'interpolate_plateaus_in_ux' is not defined"
     ]
    }
   ],
   "source": [
    "# Load the data\n",
    "base_path = Path.cwd().parent  / \"data\"/ \"exp2_box_ISI300\" \n",
    "df_eeg= pd.read_csv(base_path /\"session_20250710_1721_Ege\"/ 'eeg_data.csv')\n",
    "df_gui = pd.read_csv(base_path /\"session_20250710_1721_Ege\"/ 'gui_data.csv')\n",
    "\n",
    "# Interpolate plateaus in ux timestamp\n",
    "df_eeg = interpolate_plateaus_in_ux(df_eeg)"
   ]
  },
  {
   "cell_type": "code",
   "execution_count": 4,
   "id": "8d8fdd54",
   "metadata": {},
   "outputs": [
    {
     "name": "stdout",
     "output_type": "stream",
     "text": [
      "Estimated sampling frequency: 127.89 Hz\n"
     ]
    }
   ],
   "source": [
    "# Estimate sampling frequency (in Hz)\n",
    "timestamps = df_eeg['timestamp_ux'].values\n",
    "dt = np.median(np.diff(timestamps))  # assume constant sampling\n",
    "fs = 1.0 / dt\n",
    "print(f\"Estimated sampling frequency: {fs:.2f} Hz\")"
   ]
  },
  {
   "cell_type": "markdown",
   "id": "605be485",
   "metadata": {},
   "source": [
    "## Things to See\n",
    "- **A** – Average time for the Epochs  \n",
    "- **B** – The electrode graph \n",
    "\n",
    "## Preprocessing List\n",
    "- **A** – Bandpass filter 1–20 Hz \n",
    "\n",
    "\n",
    "## The List to Try\n",
    "\n",
    "### A. Normalization\n",
    "- **A1** – Demean per epoch, then average  \n",
    "- **A2** – Average, then demean  \n",
    "- **A3** – Just average  \n",
    "\n",
    "### B. Data Usage\n",
    "- **B1** – Time values between 290 ms to end  \n",
    "- **B2** – Time values between 290 ms to end, then decimate by 4  \n",
    "- **B3** – P300 amplitude: peak in 290–500 ms ±10 ms window  \n",
    "- **B4** – P300 amplitude: max in 290–500 ms  \n",
    "- **B5** – P300 amplitude at exactly 300 ms  \n",
    "\n",
    "### C. Feature Selection\n",
    "- **C1** – Fisher LDA  \n",
    "- **C2** - Statistically significant electrodes\n",
    "\n",
    "### M. ML Methods\n",
    " ? Should I have output as binary and prob of correct or selection from 1-2-3 ? \n",
    "- **M1** – LDA  \n",
    "- **M2** – SVM  \n",
    "- **M3** – DAWN + LDA  \n",
    "- **M4** - Random Forest with redacted columns\n",
    "\n",
    "\n",
    "\n",
    "#### Later\n",
    "- Try and discard the epochs with eye blinking with abs (max -min) and threshold\n"
   ]
  },
  {
   "cell_type": "code",
   "execution_count": 5,
   "id": "70fc1fe7",
   "metadata": {},
   "outputs": [],
   "source": [
    "df = df_gui.iloc[0:36].copy()\n",
    "avg = extract_and_average_epochs_by_stimulus(df_eeg, df, fs=128, post_time=0.6, n_average=0, normalization=\"A1\",blink_channel_idx=0, blink_threshold=120)"
   ]
  },
  {
   "cell_type": "code",
   "execution_count": null,
   "id": "d1914323",
   "metadata": {},
   "outputs": [],
   "source": [
    "X, y = collect_combined_features_all_sessions(\n",
    "    base_folder=base_path,\n",
    "    feature_types=[\"B3\", \"B4\", \"B5\"]  # You can limit to [\"B3\"] or [\"B5\"] if needed\n",
    ")"
   ]
  },
  {
   "cell_type": "code",
   "execution_count": null,
   "id": "41fd5be7",
   "metadata": {},
   "outputs": [],
   "source": [
    "def build_binary_classification_from_trial(features_dict, target_class):\n",
    "    \"\"\"\n",
    "    Converts multi-class trial into binary classification sample set\n",
    "    Parameters\n",
    "    ----------\n",
    "    features_dict : dict\n",
    "        Dictionary {class_index: feature_vector (shape C,)} for current trial.\n",
    "    target_class : int\n",
    "        Index of the true target class (e.g., 0, 1, or 2)\n",
    "    Returns\n",
    "    -------\n",
    "    X : np.ndarray, shape (3, C)\n",
    "        Feature matrix for all 3 stimuli.\n",
    "    y : np.ndarray, shape (3,)\n",
    "        Binary labels: 1 if class is the target, 0 otherwise.\n",
    "    \"\"\"\n",
    "    keys = sorted(features_dict.keys())  # ensure consistent order\n",
    "    X = np.vstack([features_dict[k] for k in keys])\n",
    "    y = np.array([1 if k == target_class else 0 for k in keys])\n",
    "    return X, y\n"
   ]
  },
  {
   "cell_type": "markdown",
   "id": "237a1eb5",
   "metadata": {},
   "source": [
    "I need feature selection\n",
    "    - RF \n",
    "\n",
    "I can also try Common Spatial Patterns"
   ]
  },
  {
   "cell_type": "code",
   "execution_count": null,
   "id": "2128e829",
   "metadata": {},
   "outputs": [],
   "source": [
    "# Feature Selection\n",
    "from sklearn.feature_selection import SelectKBest, f_classif\n",
    "# X: shape (n_samples, n_features)\n",
    "# y: shape (n_samples,), values as 1, 0\n",
    "\n",
    "selector = SelectKBest(score_func=f_classif, k=10)\n",
    "X_selected = selector.fit_transform(X, y)\n",
    "selected_indices = selector.get_support(indices=True)"
   ]
  },
  {
   "cell_type": "code",
   "execution_count": null,
   "id": "9c0cacb8",
   "metadata": {},
   "outputs": [],
   "source": [
    "# Feature Extraction      \n",
    "from sklearn.discriminant_analysis import LinearDiscriminantAnalysis\n",
    "# X: shape (n_samples, n_features)\n",
    "# y: shape (n_samples,), values as 1, 0\n",
    "\n",
    "# Fischer LDA\n",
    "lda = LinearDiscriminantAnalysis()\n",
    "X_lda = lda.fit_transform(X, y)   # Reduced features\n",
    "y_pred = lda.predict(X)           # Class predictions (if needed)\n",
    "\n"
   ]
  },
  {
   "cell_type": "markdown",
   "id": "b7bd9495",
   "metadata": {},
   "source": [
    "I am doing the feature X and y preparer for B3-B5"
   ]
  },
  {
   "cell_type": "code",
   "execution_count": 5,
   "id": "50615bb1",
   "metadata": {},
   "outputs": [
    {
     "name": "stdout",
     "output_type": "stream",
     "text": [
      "Execution time: 11.97 ms\n"
     ]
    }
   ],
   "source": [
    "import time\n",
    "\n",
    "start = time.time()\n",
    "epochs = extract_epochs_by_stimulus(df_eeg, df_gui, fs=250, post_time=0.8)\n",
    "\n",
    "eeg_epochs_1 = epochs[1]\n",
    "eeg_epochs_2 = epochs[2]\n",
    "eeg_epochs_3 = epochs[3]\n",
    "\n",
    "end = time.time()\n",
    "print(f\"Execution time: {(end - start)*1000:.2f} ms\")"
   ]
  },
  {
   "cell_type": "code",
   "execution_count": null,
   "id": "504e3368",
   "metadata": {},
   "outputs": [],
   "source": [
    "# Demean the epochs globally\n",
    "eeg_epochs_1_demeaned = global_demean_epochs(eeg_epochs_1)\n",
    "eeg_epochs_2_demeaned = global_demean_epochs(eeg_epochs_2)\n",
    "eeg_epochs_3_demeaned = global_demean_epochs(eeg_epochs_3)\n"
   ]
  }
 ],
 "metadata": {
  "kernelspec": {
   "display_name": "Python 3",
   "language": "python",
   "name": "python3"
  },
  "language_info": {
   "codemirror_mode": {
    "name": "ipython",
    "version": 3
   },
   "file_extension": ".py",
   "mimetype": "text/x-python",
   "name": "python",
   "nbconvert_exporter": "python",
   "pygments_lexer": "ipython3",
   "version": "3.11.8"
  }
 },
 "nbformat": 4,
 "nbformat_minor": 5
}
