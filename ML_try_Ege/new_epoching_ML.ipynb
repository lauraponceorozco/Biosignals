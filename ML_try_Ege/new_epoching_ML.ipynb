{
 "cells": [
  {
   "cell_type": "markdown",
   "id": "a372408c",
   "metadata": {},
   "source": [
    "quick branch to extract col and row in addition to target/non-target"
   ]
  },
  {
   "cell_type": "code",
   "execution_count": 1,
   "id": "54061109",
   "metadata": {},
   "outputs": [],
   "source": [
    "%matplotlib widget \n",
    "#widget\n",
    "%load_ext autoreload\n",
    "%autoreload 2\n",
    "from pathlib import Path\n",
    "import numpy as np\n",
    "import pandas as pd\n",
    "import matplotlib.pyplot as plt\n",
    "import mne\n",
    "from IPython.display import display\n",
    "import os\n",
    "from help_func_new_paradigm import *"
   ]
  },
  {
   "cell_type": "code",
   "execution_count": 2,
   "id": "8ca4d26a",
   "metadata": {},
   "outputs": [],
   "source": [
    "from help_func_new_paradigm import *"
   ]
  },
  {
   "cell_type": "code",
   "execution_count": 3,
   "id": "1df80817",
   "metadata": {},
   "outputs": [],
   "source": [
    "method= \"A1\"\n",
    "feature_types=[\"B3\"]"
   ]
  },
  {
   "cell_type": "code",
   "execution_count": 4,
   "id": "2f63f542",
   "metadata": {},
   "outputs": [
    {
     "name": "stderr",
     "output_type": "stream",
     "text": [
      "C:\\Users\\chris\\AppData\\Local\\Temp\\ipykernel_2688\\3767611158.py:3: DtypeWarning: Columns (16,17,18) have mixed types. Specify dtype option on import or set low_memory=False.\n",
      "  df_eeg= pd.read_csv(base_path /'19.07.2.csv')\n",
      "c:\\Users\\chris\\Documents\\Master_MSNE\\SS25\\BSPM\\Biosignals\\ML_try_Ege\\help_func_new_paradigm.py:313: DtypeWarning: Columns (16,17,18) have mixed types. Specify dtype option on import or set low_memory=False.\n",
      "  df_eeg = pd.read_csv(file)\n",
      "c:\\Users\\chris\\Documents\\Master_MSNE\\SS25\\BSPM\\Biosignals\\ML_try_Ege\\help_func_new_paradigm.py:313: DtypeWarning: Columns (16,17,18) have mixed types. Specify dtype option on import or set low_memory=False.\n",
      "  df_eeg = pd.read_csv(file)\n",
      "c:\\Users\\chris\\Documents\\Master_MSNE\\SS25\\BSPM\\Biosignals\\ML_try_Ege\\help_func_new_paradigm.py:313: DtypeWarning: Columns (16,17,18) have mixed types. Specify dtype option on import or set low_memory=False.\n",
      "  df_eeg = pd.read_csv(file)\n",
      "c:\\Users\\chris\\Documents\\Master_MSNE\\SS25\\BSPM\\Biosignals\\ML_try_Ege\\help_func_new_paradigm.py:313: DtypeWarning: Columns (16,17,18) have mixed types. Specify dtype option on import or set low_memory=False.\n",
      "  df_eeg = pd.read_csv(file)\n",
      "c:\\Users\\chris\\Documents\\Master_MSNE\\SS25\\BSPM\\Biosignals\\ML_try_Ege\\help_func_new_paradigm.py:313: DtypeWarning: Columns (16,17,18) have mixed types. Specify dtype option on import or set low_memory=False.\n",
      "  df_eeg = pd.read_csv(file)\n"
     ]
    }
   ],
   "source": [
    "# Load the signal recording data\n",
    "base_path = Path.cwd().parent  / \"data\"/ \"ali_paradigm_training\" \n",
    "df_eeg= pd.read_csv(base_path /'19.07.2.csv')\n",
    "df_annotated = annotate_flash_and_target_columns(df_eeg)\n",
    "df_with_trials = add_trial_count_column_for_flashes_only(df_annotated)\n",
    "df_single = epoch_grouped_trialwise_average(df_with_trials, normalization=method, \n",
    "                                                        blink_threshold=120, blink_rejection=True)\n",
    "                                                        \n",
    "# Load the general data ; without filtering due to incomplete data\n",
    "df_combined = process_and_combine_all_csvs(base_path,blink_rejection=False, normalization=method)"
   ]
  },
  {
   "cell_type": "markdown",
   "id": "9947a465",
   "metadata": {},
   "source": [
    "## All Record Combined\n"
   ]
  },
  {
   "cell_type": "code",
   "execution_count": 5,
   "id": "96aef747",
   "metadata": {},
   "outputs": [],
   "source": [
    "from help_fischer import *"
   ]
  },
  {
   "cell_type": "code",
   "execution_count": 6,
   "id": "811e9e51",
   "metadata": {},
   "outputs": [
    {
     "name": "stdout",
     "output_type": "stream",
     "text": [
      "(300, 28) (300,)\n"
     ]
    }
   ],
   "source": [
    "X, y = extract_features_from_df_combined(df_combined, fs=128, feature_types = feature_types)\n",
    "print(X.shape, y.shape)"
   ]
  },
  {
   "cell_type": "code",
   "execution_count": 7,
   "id": "0193e1a9",
   "metadata": {},
   "outputs": [
    {
     "name": "stderr",
     "output_type": "stream",
     "text": [
      "C:\\Users\\chris\\AppData\\Local\\Temp\\ipykernel_2688\\4010560686.py:76: FutureWarning: Setting an item of incompatible dtype is deprecated and will raise an error in a future version of pandas. Value 'Mean' has dtype incompatible with float64, please explicitly cast to a compatible dtype first.\n",
      "  mean_row[\"Fold\"] = \"Mean\"\n",
      "C:\\Users\\chris\\AppData\\Local\\Temp\\ipykernel_2688\\4010560686.py:78: FutureWarning: Setting an item of incompatible dtype is deprecated and will raise an error in a future version of pandas. Value 'Std' has dtype incompatible with float64, please explicitly cast to a compatible dtype first.\n",
      "  std_row[\"Fold\"] = \"Std\"\n"
     ]
    },
    {
     "data": {
      "application/vnd.microsoft.datawrangler.viewer.v0+json": {
       "columns": [
        {
         "name": "index",
         "rawType": "int64",
         "type": "integer"
        },
        {
         "name": "Fold",
         "rawType": "object",
         "type": "unknown"
        },
        {
         "name": "Accuracy_Combined",
         "rawType": "float64",
         "type": "float"
        },
        {
         "name": "Accuracy_Column",
         "rawType": "float64",
         "type": "float"
        },
        {
         "name": "Accuracy_Row",
         "rawType": "float64",
         "type": "float"
        }
       ],
       "ref": "33895bb2-8758-4f64-bd45-36fa6f1ede9a",
       "rows": [
        [
         "0",
         "0",
         "0.0",
         "0.1",
         "0.2"
        ],
        [
         "1",
         "1",
         "0.2",
         "0.5",
         "0.4"
        ],
        [
         "2",
         "2",
         "0.3",
         "0.4",
         "0.6"
        ],
        [
         "3",
         "3",
         "0.0",
         "0.1",
         "0.4"
        ],
        [
         "4",
         "4",
         "0.2",
         "0.4",
         "0.3"
        ],
        [
         "5",
         "Mean",
         "0.13999999999999999",
         "0.3",
         "0.38"
        ],
        [
         "6",
         "Std",
         "0.1341640786499874",
         "0.18708286933869708",
         "0.14832396974191325"
        ]
       ],
       "shape": {
        "columns": 4,
        "rows": 7
       }
      },
      "text/html": [
       "<div>\n",
       "<style scoped>\n",
       "    .dataframe tbody tr th:only-of-type {\n",
       "        vertical-align: middle;\n",
       "    }\n",
       "\n",
       "    .dataframe tbody tr th {\n",
       "        vertical-align: top;\n",
       "    }\n",
       "\n",
       "    .dataframe thead th {\n",
       "        text-align: right;\n",
       "    }\n",
       "</style>\n",
       "<table border=\"1\" class=\"dataframe\">\n",
       "  <thead>\n",
       "    <tr style=\"text-align: right;\">\n",
       "      <th></th>\n",
       "      <th>Fold</th>\n",
       "      <th>Accuracy_Combined</th>\n",
       "      <th>Accuracy_Column</th>\n",
       "      <th>Accuracy_Row</th>\n",
       "    </tr>\n",
       "  </thead>\n",
       "  <tbody>\n",
       "    <tr>\n",
       "      <th>0</th>\n",
       "      <td>0</td>\n",
       "      <td>0.000000</td>\n",
       "      <td>0.100000</td>\n",
       "      <td>0.200000</td>\n",
       "    </tr>\n",
       "    <tr>\n",
       "      <th>1</th>\n",
       "      <td>1</td>\n",
       "      <td>0.200000</td>\n",
       "      <td>0.500000</td>\n",
       "      <td>0.400000</td>\n",
       "    </tr>\n",
       "    <tr>\n",
       "      <th>2</th>\n",
       "      <td>2</td>\n",
       "      <td>0.300000</td>\n",
       "      <td>0.400000</td>\n",
       "      <td>0.600000</td>\n",
       "    </tr>\n",
       "    <tr>\n",
       "      <th>3</th>\n",
       "      <td>3</td>\n",
       "      <td>0.000000</td>\n",
       "      <td>0.100000</td>\n",
       "      <td>0.400000</td>\n",
       "    </tr>\n",
       "    <tr>\n",
       "      <th>4</th>\n",
       "      <td>4</td>\n",
       "      <td>0.200000</td>\n",
       "      <td>0.400000</td>\n",
       "      <td>0.300000</td>\n",
       "    </tr>\n",
       "    <tr>\n",
       "      <th>5</th>\n",
       "      <td>Mean</td>\n",
       "      <td>0.140000</td>\n",
       "      <td>0.300000</td>\n",
       "      <td>0.380000</td>\n",
       "    </tr>\n",
       "    <tr>\n",
       "      <th>6</th>\n",
       "      <td>Std</td>\n",
       "      <td>0.134164</td>\n",
       "      <td>0.187083</td>\n",
       "      <td>0.148324</td>\n",
       "    </tr>\n",
       "  </tbody>\n",
       "</table>\n",
       "</div>"
      ],
      "text/plain": [
       "   Fold  Accuracy_Combined  Accuracy_Column  Accuracy_Row\n",
       "0     0           0.000000         0.100000      0.200000\n",
       "1     1           0.200000         0.500000      0.400000\n",
       "2     2           0.300000         0.400000      0.600000\n",
       "3     3           0.000000         0.100000      0.400000\n",
       "4     4           0.200000         0.400000      0.300000\n",
       "5  Mean           0.140000         0.300000      0.380000\n",
       "6   Std           0.134164         0.187083      0.148324"
      ]
     },
     "metadata": {},
     "output_type": "display_data"
    }
   ],
   "source": [
    "import numpy as np\n",
    "import pandas as pd\n",
    "from sklearn.svm import SVC\n",
    "from sklearn.discriminant_analysis import LinearDiscriminantAnalysis as LDA\n",
    "from sklearn.preprocessing import StandardScaler\n",
    "from sklearn.metrics import accuracy_score\n",
    "\n",
    "# Simulate fold-wise 5-fold data (5 folds, 60 rows each, 6 rows per trial → 10 trials per fold)\n",
    "# Each 6-row group represents one trial (first 3: columns, next 3: rows)\n",
    "num_folds = 5\n",
    "rows_per_fold = 60\n",
    "\n",
    "# Session splits\n",
    "session_splits = {\n",
    "    0: np.arange(0, 60),    \n",
    "    1: np.arange(60, 120),   \n",
    "    2: np.arange(120, 180),\n",
    "    3: np.arange(180, 240),    \n",
    "    4: np.arange(240, 300)    \n",
    "}\n",
    "\n",
    "results = []\n",
    "num_folds = 5\n",
    "\n",
    "for test_fold in range(num_folds):\n",
    "    test_trials = session_splits[test_fold]\n",
    "    train_trials = np.setdiff1d(np.arange(300), test_trials)\n",
    "\n",
    "    X_train_full, X_test_full = X[train_trials], X[test_trials]\n",
    "    y_train, y_test = y[train_trials], y[test_trials]\n",
    "\n",
    "    # === Feature selection ===\n",
    "    X_train, selected_idx = select_top_k_fisher_multiclass(X_train_full, y_train, k=10)\n",
    "    X_test = X_test_full[:, selected_idx]\n",
    "\n",
    "    # === Feature Scaling ===\n",
    "    scaler = StandardScaler()\n",
    "    X_train_scaled = scaler.fit_transform(X_train)\n",
    "    X_test_scaled = scaler.transform(X_test)\n",
    "\n",
    "    # === Train classifier ===\n",
    "    clf = SVC(kernel='linear', probability=True, random_state=42)\n",
    "    clf.fit(X_train_scaled, y_train)\n",
    "    y_probs = clf.predict_proba(X_test_scaled)[:, 1]\n",
    "\n",
    "    # === WTA evaluation ===\n",
    "    correct_combined = 0\n",
    "    correct_column = 0\n",
    "    correct_row = 0\n",
    "\n",
    "    for i in range(0, len(y_test), 6):\n",
    "        block_probs = y_probs[i:i+6]\n",
    "        block_y = y_test[i:i+6]\n",
    "\n",
    "        top_col = np.argmax(block_probs[0:3])\n",
    "        top_row = np.argmax(block_probs[3:6])\n",
    "\n",
    "        correct_col = np.argmax(block_y[0:3])\n",
    "        correct_row_val = np.argmax(block_y[3:6])\n",
    "\n",
    "        correct_column += (top_col == correct_col)\n",
    "        correct_row += (top_row == correct_row_val)\n",
    "        correct_combined += ((top_col == correct_col) and (top_row == correct_row_val))\n",
    "\n",
    "    fold_result = {\n",
    "        \"Fold\": test_fold,\n",
    "        \"Accuracy_Combined\": correct_combined / (len(y_test) // 6),\n",
    "        \"Accuracy_Column\": correct_column / (len(y_test) // 6),\n",
    "        \"Accuracy_Row\": correct_row / (len(y_test) // 6),\n",
    "    }\n",
    "\n",
    "    results.append(fold_result)\n",
    "\n",
    "df_results = pd.DataFrame(results)\n",
    "mean_row = df_results.mean(numeric_only=True)\n",
    "mean_row[\"Fold\"] = \"Mean\"\n",
    "std_row = df_results.std(numeric_only=True)\n",
    "std_row[\"Fold\"] = \"Std\"\n",
    "df_results = pd.concat([df_results, pd.DataFrame([mean_row, std_row])], ignore_index=True)\n",
    "display(df_results)"
   ]
  },
  {
   "cell_type": "markdown",
   "id": "ad090e63",
   "metadata": {},
   "source": [
    "### Selected electrodes - Didn't work"
   ]
  },
  {
   "cell_type": "code",
   "execution_count": 8,
   "id": "4676e4d5",
   "metadata": {},
   "outputs": [
    {
     "name": "stderr",
     "output_type": "stream",
     "text": [
      "C:\\Users\\chris\\AppData\\Local\\Temp\\ipykernel_2688\\2651718423.py:65: FutureWarning: Setting an item of incompatible dtype is deprecated and will raise an error in a future version of pandas. Value 'Mean' has dtype incompatible with float64, please explicitly cast to a compatible dtype first.\n",
      "  mean_row[\"Fold\"] = \"Mean\"\n",
      "C:\\Users\\chris\\AppData\\Local\\Temp\\ipykernel_2688\\2651718423.py:67: FutureWarning: Setting an item of incompatible dtype is deprecated and will raise an error in a future version of pandas. Value 'Std' has dtype incompatible with float64, please explicitly cast to a compatible dtype first.\n",
      "  std_row[\"Fold\"] = \"Std\"\n"
     ]
    },
    {
     "data": {
      "application/vnd.microsoft.datawrangler.viewer.v0+json": {
       "columns": [
        {
         "name": "index",
         "rawType": "int64",
         "type": "integer"
        },
        {
         "name": "Fold",
         "rawType": "object",
         "type": "unknown"
        },
        {
         "name": "Accuracy_Combined",
         "rawType": "float64",
         "type": "float"
        },
        {
         "name": "Accuracy_Column",
         "rawType": "float64",
         "type": "float"
        },
        {
         "name": "Accuracy_Row",
         "rawType": "float64",
         "type": "float"
        }
       ],
       "ref": "74704b6e-56e1-4b65-8293-6d0368f617a2",
       "rows": [
        [
         "0",
         "0",
         "0.1",
         "0.2",
         "0.3"
        ],
        [
         "1",
         "1",
         "0.1",
         "0.3",
         "0.3"
        ],
        [
         "2",
         "2",
         "0.1",
         "0.3",
         "0.5"
        ],
        [
         "3",
         "3",
         "0.0",
         "0.7",
         "0.2"
        ],
        [
         "4",
         "4",
         "0.1",
         "0.3",
         "0.4"
        ],
        [
         "5",
         "Mean",
         "0.08",
         "0.36",
         "0.34"
        ],
        [
         "6",
         "Std",
         "0.044721359549995794",
         "0.19493588689617924",
         "0.11401754250991379"
        ]
       ],
       "shape": {
        "columns": 4,
        "rows": 7
       }
      },
      "text/html": [
       "<div>\n",
       "<style scoped>\n",
       "    .dataframe tbody tr th:only-of-type {\n",
       "        vertical-align: middle;\n",
       "    }\n",
       "\n",
       "    .dataframe tbody tr th {\n",
       "        vertical-align: top;\n",
       "    }\n",
       "\n",
       "    .dataframe thead th {\n",
       "        text-align: right;\n",
       "    }\n",
       "</style>\n",
       "<table border=\"1\" class=\"dataframe\">\n",
       "  <thead>\n",
       "    <tr style=\"text-align: right;\">\n",
       "      <th></th>\n",
       "      <th>Fold</th>\n",
       "      <th>Accuracy_Combined</th>\n",
       "      <th>Accuracy_Column</th>\n",
       "      <th>Accuracy_Row</th>\n",
       "    </tr>\n",
       "  </thead>\n",
       "  <tbody>\n",
       "    <tr>\n",
       "      <th>0</th>\n",
       "      <td>0</td>\n",
       "      <td>0.100000</td>\n",
       "      <td>0.200000</td>\n",
       "      <td>0.300000</td>\n",
       "    </tr>\n",
       "    <tr>\n",
       "      <th>1</th>\n",
       "      <td>1</td>\n",
       "      <td>0.100000</td>\n",
       "      <td>0.300000</td>\n",
       "      <td>0.300000</td>\n",
       "    </tr>\n",
       "    <tr>\n",
       "      <th>2</th>\n",
       "      <td>2</td>\n",
       "      <td>0.100000</td>\n",
       "      <td>0.300000</td>\n",
       "      <td>0.500000</td>\n",
       "    </tr>\n",
       "    <tr>\n",
       "      <th>3</th>\n",
       "      <td>3</td>\n",
       "      <td>0.000000</td>\n",
       "      <td>0.700000</td>\n",
       "      <td>0.200000</td>\n",
       "    </tr>\n",
       "    <tr>\n",
       "      <th>4</th>\n",
       "      <td>4</td>\n",
       "      <td>0.100000</td>\n",
       "      <td>0.300000</td>\n",
       "      <td>0.400000</td>\n",
       "    </tr>\n",
       "    <tr>\n",
       "      <th>5</th>\n",
       "      <td>Mean</td>\n",
       "      <td>0.080000</td>\n",
       "      <td>0.360000</td>\n",
       "      <td>0.340000</td>\n",
       "    </tr>\n",
       "    <tr>\n",
       "      <th>6</th>\n",
       "      <td>Std</td>\n",
       "      <td>0.044721</td>\n",
       "      <td>0.194936</td>\n",
       "      <td>0.114018</td>\n",
       "    </tr>\n",
       "  </tbody>\n",
       "</table>\n",
       "</div>"
      ],
      "text/plain": [
       "   Fold  Accuracy_Combined  Accuracy_Column  Accuracy_Row\n",
       "0     0           0.100000         0.200000      0.300000\n",
       "1     1           0.100000         0.300000      0.300000\n",
       "2     2           0.100000         0.300000      0.500000\n",
       "3     3           0.000000         0.700000      0.200000\n",
       "4     4           0.100000         0.300000      0.400000\n",
       "5  Mean           0.080000         0.360000      0.340000\n",
       "6   Std           0.044721         0.194936      0.114018"
      ]
     },
     "metadata": {},
     "output_type": "display_data"
    }
   ],
   "source": [
    "selected_idx = [3, 11, 24, 26, 27]\n",
    "# Session splits\n",
    "session_splits = {\n",
    "    0: np.arange(0, 60),    \n",
    "    1: np.arange(60, 120),   \n",
    "    2: np.arange(120, 180),\n",
    "    3: np.arange(180, 240),    \n",
    "    4: np.arange(240, 300)    \n",
    "}\n",
    "\n",
    "results = []\n",
    "num_folds = 5\n",
    "\n",
    "for test_fold in range(num_folds):\n",
    "    test_trials = session_splits[test_fold]\n",
    "    train_trials = np.setdiff1d(np.arange(300), test_trials)\n",
    "\n",
    "    X_train_full, X_test_full = X[train_trials], X[test_trials]\n",
    "    y_train, y_test = y[train_trials], y[test_trials]\n",
    "\n",
    "    # === Feature selection ===\n",
    "    X_train = X_train_full[:, selected_idx]\n",
    "    X_test = X_test_full[:, selected_idx]\n",
    "\n",
    "    # === Feature Scaling ===\n",
    "    scaler = StandardScaler()\n",
    "    X_train_scaled = scaler.fit_transform(X_train)\n",
    "    X_test_scaled = scaler.transform(X_test)\n",
    "\n",
    "    # === Train classifier ===\n",
    "    clf = SVC(kernel='linear', probability=True, random_state=42)\n",
    "    clf.fit(X_train_scaled, y_train)\n",
    "    y_probs = clf.predict_proba(X_test_scaled)[:, 1]\n",
    "\n",
    "    # === WTA evaluation ===\n",
    "    correct_combined = 0\n",
    "    correct_column = 0\n",
    "    correct_row = 0\n",
    "\n",
    "    for i in range(0, len(y_test), 6):\n",
    "        block_probs = y_probs[i:i+6]\n",
    "        block_y = y_test[i:i+6]\n",
    "\n",
    "        top_col = np.argmax(block_probs[0:3])\n",
    "        top_row = np.argmax(block_probs[3:6])\n",
    "\n",
    "        correct_col = np.argmax(block_y[0:3])\n",
    "        correct_row_val = np.argmax(block_y[3:6])\n",
    "\n",
    "        correct_column += (top_col == correct_col)\n",
    "        correct_row += (top_row == correct_row_val)\n",
    "        correct_combined += ((top_col == correct_col) and (top_row == correct_row_val))\n",
    "\n",
    "    fold_result = {\n",
    "        \"Fold\": test_fold,\n",
    "        \"Accuracy_Combined\": correct_combined / (len(y_test) // 6),\n",
    "        \"Accuracy_Column\": correct_column / (len(y_test) // 6),\n",
    "        \"Accuracy_Row\": correct_row / (len(y_test) // 6),\n",
    "    }\n",
    "\n",
    "    results.append(fold_result)\n",
    "\n",
    "df_results = pd.DataFrame(results)\n",
    "mean_row = df_results.mean(numeric_only=True)\n",
    "mean_row[\"Fold\"] = \"Mean\"\n",
    "std_row = df_results.std(numeric_only=True)\n",
    "std_row[\"Fold\"] = \"Std\"\n",
    "df_results = pd.concat([df_results, pd.DataFrame([mean_row, std_row])], ignore_index=True)\n",
    "display(df_results)"
   ]
  },
  {
   "cell_type": "markdown",
   "id": "e065afab",
   "metadata": {},
   "source": [
    "## 1 Record Only"
   ]
  },
  {
   "cell_type": "code",
   "execution_count": 9,
   "id": "20553fc0",
   "metadata": {},
   "outputs": [
    {
     "name": "stdout",
     "output_type": "stream",
     "text": [
      "(300, 28) (300,)\n"
     ]
    }
   ],
   "source": [
    "X, y = extract_features_from_df_combined(df_combined, fs=128, feature_types = feature_types)\n",
    "print(X.shape, y.shape)"
   ]
  },
  {
   "cell_type": "code",
   "execution_count": 10,
   "id": "a348b7e7",
   "metadata": {},
   "outputs": [
    {
     "name": "stderr",
     "output_type": "stream",
     "text": [
      "C:\\Users\\chris\\AppData\\Local\\Temp\\ipykernel_2688\\2169775392.py:67: FutureWarning: Setting an item of incompatible dtype is deprecated and will raise an error in a future version of pandas. Value 'Mean' has dtype incompatible with float64, please explicitly cast to a compatible dtype first.\n",
      "  mean_row[\"Fold\"] = \"Mean\"\n",
      "C:\\Users\\chris\\AppData\\Local\\Temp\\ipykernel_2688\\2169775392.py:69: FutureWarning: Setting an item of incompatible dtype is deprecated and will raise an error in a future version of pandas. Value 'Std' has dtype incompatible with float64, please explicitly cast to a compatible dtype first.\n",
      "  std_row[\"Fold\"] = \"Std\"\n"
     ]
    },
    {
     "data": {
      "application/vnd.microsoft.datawrangler.viewer.v0+json": {
       "columns": [
        {
         "name": "index",
         "rawType": "int64",
         "type": "integer"
        },
        {
         "name": "Fold",
         "rawType": "object",
         "type": "unknown"
        },
        {
         "name": "Accuracy_Combined",
         "rawType": "float64",
         "type": "float"
        },
        {
         "name": "Accuracy_Column",
         "rawType": "float64",
         "type": "float"
        },
        {
         "name": "Accuracy_Row",
         "rawType": "float64",
         "type": "float"
        }
       ],
       "ref": "5e0eadd0-ed95-4a9e-9395-0f472738d477",
       "rows": [
        [
         "0",
         "0",
         "0.0",
         "0.0",
         "0.5"
        ],
        [
         "1",
         "1",
         "0.0",
         "0.5",
         "0.0"
        ],
        [
         "2",
         "2",
         "0.0",
         "0.0",
         "0.0"
        ],
        [
         "3",
         "3",
         "0.5",
         "1.0",
         "0.5"
        ],
        [
         "4",
         "4",
         "0.5",
         "0.5",
         "0.5"
        ],
        [
         "5",
         "Mean",
         "0.2",
         "0.4",
         "0.3"
        ],
        [
         "6",
         "Std",
         "0.2738612787525831",
         "0.4183300132670378",
         "0.2738612787525831"
        ]
       ],
       "shape": {
        "columns": 4,
        "rows": 7
       }
      },
      "text/html": [
       "<div>\n",
       "<style scoped>\n",
       "    .dataframe tbody tr th:only-of-type {\n",
       "        vertical-align: middle;\n",
       "    }\n",
       "\n",
       "    .dataframe tbody tr th {\n",
       "        vertical-align: top;\n",
       "    }\n",
       "\n",
       "    .dataframe thead th {\n",
       "        text-align: right;\n",
       "    }\n",
       "</style>\n",
       "<table border=\"1\" class=\"dataframe\">\n",
       "  <thead>\n",
       "    <tr style=\"text-align: right;\">\n",
       "      <th></th>\n",
       "      <th>Fold</th>\n",
       "      <th>Accuracy_Combined</th>\n",
       "      <th>Accuracy_Column</th>\n",
       "      <th>Accuracy_Row</th>\n",
       "    </tr>\n",
       "  </thead>\n",
       "  <tbody>\n",
       "    <tr>\n",
       "      <th>0</th>\n",
       "      <td>0</td>\n",
       "      <td>0.000000</td>\n",
       "      <td>0.00000</td>\n",
       "      <td>0.500000</td>\n",
       "    </tr>\n",
       "    <tr>\n",
       "      <th>1</th>\n",
       "      <td>1</td>\n",
       "      <td>0.000000</td>\n",
       "      <td>0.50000</td>\n",
       "      <td>0.000000</td>\n",
       "    </tr>\n",
       "    <tr>\n",
       "      <th>2</th>\n",
       "      <td>2</td>\n",
       "      <td>0.000000</td>\n",
       "      <td>0.00000</td>\n",
       "      <td>0.000000</td>\n",
       "    </tr>\n",
       "    <tr>\n",
       "      <th>3</th>\n",
       "      <td>3</td>\n",
       "      <td>0.500000</td>\n",
       "      <td>1.00000</td>\n",
       "      <td>0.500000</td>\n",
       "    </tr>\n",
       "    <tr>\n",
       "      <th>4</th>\n",
       "      <td>4</td>\n",
       "      <td>0.500000</td>\n",
       "      <td>0.50000</td>\n",
       "      <td>0.500000</td>\n",
       "    </tr>\n",
       "    <tr>\n",
       "      <th>5</th>\n",
       "      <td>Mean</td>\n",
       "      <td>0.200000</td>\n",
       "      <td>0.40000</td>\n",
       "      <td>0.300000</td>\n",
       "    </tr>\n",
       "    <tr>\n",
       "      <th>6</th>\n",
       "      <td>Std</td>\n",
       "      <td>0.273861</td>\n",
       "      <td>0.41833</td>\n",
       "      <td>0.273861</td>\n",
       "    </tr>\n",
       "  </tbody>\n",
       "</table>\n",
       "</div>"
      ],
      "text/plain": [
       "   Fold  Accuracy_Combined  Accuracy_Column  Accuracy_Row\n",
       "0     0           0.000000          0.00000      0.500000\n",
       "1     1           0.000000          0.50000      0.000000\n",
       "2     2           0.000000          0.00000      0.000000\n",
       "3     3           0.500000          1.00000      0.500000\n",
       "4     4           0.500000          0.50000      0.500000\n",
       "5  Mean           0.200000          0.40000      0.300000\n",
       "6   Std           0.273861          0.41833      0.273861"
      ]
     },
     "metadata": {},
     "output_type": "display_data"
    }
   ],
   "source": [
    "num_folds = 2\n",
    "rows_per_fold = 12\n",
    "\n",
    "# Session splits\n",
    "session_splits = {\n",
    "    0: np.arange(0, 12),    \n",
    "    1: np.arange(12, 24),   \n",
    "    2: np.arange(24, 36),\n",
    "    3: np.arange(36, 48),    \n",
    "    4: np.arange(48, 60)    \n",
    "}\n",
    "\n",
    "results = []\n",
    "num_folds = 5\n",
    "\n",
    "for test_fold in range(num_folds):\n",
    "    test_trials = session_splits[test_fold]\n",
    "    train_trials = np.setdiff1d(np.arange(60), test_trials)\n",
    "\n",
    "    X_train_full, X_test_full = X[train_trials], X[test_trials]\n",
    "    y_train, y_test = y[train_trials], y[test_trials]\n",
    "\n",
    "    # === Feature selection ===\n",
    "    X_train, selected_idx = select_top_k_fisher_multiclass(X_train_full, y_train, k=10)\n",
    "    X_test = X_test_full[:, selected_idx]\n",
    "\n",
    "    # === Feature Scaling ===\n",
    "    scaler = StandardScaler()\n",
    "    X_train_scaled = scaler.fit_transform(X_train)\n",
    "    X_test_scaled = scaler.transform(X_test)\n",
    "\n",
    "    # === Train classifier ===\n",
    "    clf = SVC(kernel='linear', probability=True, random_state=42)\n",
    "    clf.fit(X_train_scaled, y_train)\n",
    "    y_probs = clf.predict_proba(X_test_scaled)[:, 1]\n",
    "\n",
    "    # === WTA evaluation ===\n",
    "    correct_combined = 0\n",
    "    correct_column = 0\n",
    "    correct_row = 0\n",
    "\n",
    "    for i in range(0, len(y_test), 6):\n",
    "        block_probs = y_probs[i:i+6]\n",
    "        block_y = y_test[i:i+6]\n",
    "\n",
    "        top_col = np.argmax(block_probs[0:3])\n",
    "        top_row = np.argmax(block_probs[3:6])\n",
    "\n",
    "        correct_col = np.argmax(block_y[0:3])\n",
    "        correct_row_val = np.argmax(block_y[3:6])\n",
    "\n",
    "        correct_column += (top_col == correct_col)\n",
    "        correct_row += (top_row == correct_row_val)\n",
    "        correct_combined += ((top_col == correct_col) and (top_row == correct_row_val))\n",
    "\n",
    "    fold_result = {\n",
    "        \"Fold\": test_fold,\n",
    "        \"Accuracy_Combined\": correct_combined / (len(y_test) // 6),\n",
    "        \"Accuracy_Column\": correct_column / (len(y_test) // 6),\n",
    "        \"Accuracy_Row\": correct_row / (len(y_test) // 6),\n",
    "    }\n",
    "\n",
    "    results.append(fold_result)\n",
    "\n",
    "df_results = pd.DataFrame(results)\n",
    "mean_row = df_results.mean(numeric_only=True)\n",
    "mean_row[\"Fold\"] = \"Mean\"\n",
    "std_row = df_results.std(numeric_only=True)\n",
    "std_row[\"Fold\"] = \"Std\"\n",
    "df_results = pd.concat([df_results, pd.DataFrame([mean_row, std_row])], ignore_index=True)\n",
    "display(df_results)"
   ]
  },
  {
   "cell_type": "code",
   "execution_count": 11,
   "id": "e1ae3da0",
   "metadata": {},
   "outputs": [
    {
     "name": "stderr",
     "output_type": "stream",
     "text": [
      "C:\\Users\\chris\\AppData\\Local\\Temp\\ipykernel_2688\\2651718423.py:65: FutureWarning: Setting an item of incompatible dtype is deprecated and will raise an error in a future version of pandas. Value 'Mean' has dtype incompatible with float64, please explicitly cast to a compatible dtype first.\n",
      "  mean_row[\"Fold\"] = \"Mean\"\n",
      "C:\\Users\\chris\\AppData\\Local\\Temp\\ipykernel_2688\\2651718423.py:67: FutureWarning: Setting an item of incompatible dtype is deprecated and will raise an error in a future version of pandas. Value 'Std' has dtype incompatible with float64, please explicitly cast to a compatible dtype first.\n",
      "  std_row[\"Fold\"] = \"Std\"\n"
     ]
    },
    {
     "data": {
      "application/vnd.microsoft.datawrangler.viewer.v0+json": {
       "columns": [
        {
         "name": "index",
         "rawType": "int64",
         "type": "integer"
        },
        {
         "name": "Fold",
         "rawType": "object",
         "type": "unknown"
        },
        {
         "name": "Accuracy_Combined",
         "rawType": "float64",
         "type": "float"
        },
        {
         "name": "Accuracy_Column",
         "rawType": "float64",
         "type": "float"
        },
        {
         "name": "Accuracy_Row",
         "rawType": "float64",
         "type": "float"
        }
       ],
       "ref": "c8c7d0d1-26c5-4d03-88d9-c6e2deca3147",
       "rows": [
        [
         "0",
         "0",
         "0.1",
         "0.2",
         "0.3"
        ],
        [
         "1",
         "1",
         "0.1",
         "0.3",
         "0.3"
        ],
        [
         "2",
         "2",
         "0.1",
         "0.3",
         "0.5"
        ],
        [
         "3",
         "3",
         "0.0",
         "0.7",
         "0.2"
        ],
        [
         "4",
         "4",
         "0.1",
         "0.3",
         "0.4"
        ],
        [
         "5",
         "Mean",
         "0.08",
         "0.36",
         "0.34"
        ],
        [
         "6",
         "Std",
         "0.044721359549995794",
         "0.19493588689617924",
         "0.11401754250991379"
        ]
       ],
       "shape": {
        "columns": 4,
        "rows": 7
       }
      },
      "text/html": [
       "<div>\n",
       "<style scoped>\n",
       "    .dataframe tbody tr th:only-of-type {\n",
       "        vertical-align: middle;\n",
       "    }\n",
       "\n",
       "    .dataframe tbody tr th {\n",
       "        vertical-align: top;\n",
       "    }\n",
       "\n",
       "    .dataframe thead th {\n",
       "        text-align: right;\n",
       "    }\n",
       "</style>\n",
       "<table border=\"1\" class=\"dataframe\">\n",
       "  <thead>\n",
       "    <tr style=\"text-align: right;\">\n",
       "      <th></th>\n",
       "      <th>Fold</th>\n",
       "      <th>Accuracy_Combined</th>\n",
       "      <th>Accuracy_Column</th>\n",
       "      <th>Accuracy_Row</th>\n",
       "    </tr>\n",
       "  </thead>\n",
       "  <tbody>\n",
       "    <tr>\n",
       "      <th>0</th>\n",
       "      <td>0</td>\n",
       "      <td>0.100000</td>\n",
       "      <td>0.200000</td>\n",
       "      <td>0.300000</td>\n",
       "    </tr>\n",
       "    <tr>\n",
       "      <th>1</th>\n",
       "      <td>1</td>\n",
       "      <td>0.100000</td>\n",
       "      <td>0.300000</td>\n",
       "      <td>0.300000</td>\n",
       "    </tr>\n",
       "    <tr>\n",
       "      <th>2</th>\n",
       "      <td>2</td>\n",
       "      <td>0.100000</td>\n",
       "      <td>0.300000</td>\n",
       "      <td>0.500000</td>\n",
       "    </tr>\n",
       "    <tr>\n",
       "      <th>3</th>\n",
       "      <td>3</td>\n",
       "      <td>0.000000</td>\n",
       "      <td>0.700000</td>\n",
       "      <td>0.200000</td>\n",
       "    </tr>\n",
       "    <tr>\n",
       "      <th>4</th>\n",
       "      <td>4</td>\n",
       "      <td>0.100000</td>\n",
       "      <td>0.300000</td>\n",
       "      <td>0.400000</td>\n",
       "    </tr>\n",
       "    <tr>\n",
       "      <th>5</th>\n",
       "      <td>Mean</td>\n",
       "      <td>0.080000</td>\n",
       "      <td>0.360000</td>\n",
       "      <td>0.340000</td>\n",
       "    </tr>\n",
       "    <tr>\n",
       "      <th>6</th>\n",
       "      <td>Std</td>\n",
       "      <td>0.044721</td>\n",
       "      <td>0.194936</td>\n",
       "      <td>0.114018</td>\n",
       "    </tr>\n",
       "  </tbody>\n",
       "</table>\n",
       "</div>"
      ],
      "text/plain": [
       "   Fold  Accuracy_Combined  Accuracy_Column  Accuracy_Row\n",
       "0     0           0.100000         0.200000      0.300000\n",
       "1     1           0.100000         0.300000      0.300000\n",
       "2     2           0.100000         0.300000      0.500000\n",
       "3     3           0.000000         0.700000      0.200000\n",
       "4     4           0.100000         0.300000      0.400000\n",
       "5  Mean           0.080000         0.360000      0.340000\n",
       "6   Std           0.044721         0.194936      0.114018"
      ]
     },
     "metadata": {},
     "output_type": "display_data"
    }
   ],
   "source": [
    "selected_idx = [3, 11, 24, 26, 27]\n",
    "# Session splits\n",
    "session_splits = {\n",
    "    0: np.arange(0, 60),    \n",
    "    1: np.arange(60, 120),   \n",
    "    2: np.arange(120, 180),\n",
    "    3: np.arange(180, 240),    \n",
    "    4: np.arange(240, 300)    \n",
    "}\n",
    "\n",
    "results = []\n",
    "num_folds = 5\n",
    "\n",
    "for test_fold in range(num_folds):\n",
    "    test_trials = session_splits[test_fold]\n",
    "    train_trials = np.setdiff1d(np.arange(300), test_trials)\n",
    "\n",
    "    X_train_full, X_test_full = X[train_trials], X[test_trials]\n",
    "    y_train, y_test = y[train_trials], y[test_trials]\n",
    "\n",
    "    # === Feature selection ===\n",
    "    X_train = X_train_full[:, selected_idx]\n",
    "    X_test = X_test_full[:, selected_idx]\n",
    "\n",
    "    # === Feature Scaling ===\n",
    "    scaler = StandardScaler()\n",
    "    X_train_scaled = scaler.fit_transform(X_train)\n",
    "    X_test_scaled = scaler.transform(X_test)\n",
    "\n",
    "    # === Train classifier ===\n",
    "    clf = SVC(kernel='linear', probability=True, random_state=42)\n",
    "    clf.fit(X_train_scaled, y_train)\n",
    "    y_probs = clf.predict_proba(X_test_scaled)[:, 1]\n",
    "\n",
    "    # === WTA evaluation ===\n",
    "    correct_combined = 0\n",
    "    correct_column = 0\n",
    "    correct_row = 0\n",
    "\n",
    "    for i in range(0, len(y_test), 6):\n",
    "        block_probs = y_probs[i:i+6]\n",
    "        block_y = y_test[i:i+6]\n",
    "\n",
    "        top_col = np.argmax(block_probs[0:3])\n",
    "        top_row = np.argmax(block_probs[3:6])\n",
    "\n",
    "        correct_col = np.argmax(block_y[0:3])\n",
    "        correct_row_val = np.argmax(block_y[3:6])\n",
    "\n",
    "        correct_column += (top_col == correct_col)\n",
    "        correct_row += (top_row == correct_row_val)\n",
    "        correct_combined += ((top_col == correct_col) and (top_row == correct_row_val))\n",
    "\n",
    "    fold_result = {\n",
    "        \"Fold\": test_fold,\n",
    "        \"Accuracy_Combined\": correct_combined / (len(y_test) // 6),\n",
    "        \"Accuracy_Column\": correct_column / (len(y_test) // 6),\n",
    "        \"Accuracy_Row\": correct_row / (len(y_test) // 6),\n",
    "    }\n",
    "\n",
    "    results.append(fold_result)\n",
    "\n",
    "df_results = pd.DataFrame(results)\n",
    "mean_row = df_results.mean(numeric_only=True)\n",
    "mean_row[\"Fold\"] = \"Mean\"\n",
    "std_row = df_results.std(numeric_only=True)\n",
    "std_row[\"Fold\"] = \"Std\"\n",
    "df_results = pd.concat([df_results, pd.DataFrame([mean_row, std_row])], ignore_index=True)\n",
    "display(df_results)"
   ]
  },
  {
   "cell_type": "code",
   "execution_count": 12,
   "id": "8b3a2914",
   "metadata": {},
   "outputs": [
    {
     "data": {
      "text/plain": [
       "['svm_classifier.pkl']"
      ]
     },
     "execution_count": 12,
     "metadata": {},
     "output_type": "execute_result"
    }
   ],
   "source": [
    "# Save SVC trained on all data\n",
    "\n",
    "# === Feature Scaling ===\n",
    "scaler_X = StandardScaler()\n",
    "X_scaled = scaler_X.fit_transform(X)\n",
    "\n",
    "# === Train classifier ===\n",
    "clf = SVC(kernel='linear', probability=True, random_state=42)\n",
    "clf.fit(X_scaled, y)\n",
    "#y_probs = clf.predict_proba(X_test_scaled)[:, 1]\n",
    "\n",
    "\n",
    "import joblib\n",
    "\n",
    "# Save the classifier to a file\n",
    "joblib.dump(clf, 'svm_classifier.pkl')\n",
    "\n",
    "\n"
   ]
  },
  {
   "cell_type": "markdown",
   "id": "73619f69",
   "metadata": {},
   "source": [
    "# It Doesn't work for real time we can juse use "
   ]
  },
  {
   "cell_type": "code",
   "execution_count": 13,
   "id": "555684c4",
   "metadata": {},
   "outputs": [
    {
     "name": "stderr",
     "output_type": "stream",
     "text": [
      "c:\\Users\\chris\\Documents\\Master_MSNE\\SS25\\BSPM\\Biosignals\\ML_try_Ege\\help_func_new_paradigm.py:313: DtypeWarning: Columns (16,17,18) have mixed types. Specify dtype option on import or set low_memory=False.\n",
      "  df_eeg = pd.read_csv(file)\n"
     ]
    },
    {
     "ename": "ValueError",
     "evalue": "Invalid normalization type.",
     "output_type": "error",
     "traceback": [
      "\u001b[1;31m---------------------------------------------------------------------------\u001b[0m",
      "\u001b[1;31mValueError\u001b[0m                                Traceback (most recent call last)",
      "Cell \u001b[1;32mIn[13], line 4\u001b[0m\n\u001b[0;32m      2\u001b[0m base_path \u001b[38;5;241m=\u001b[39m Path\u001b[38;5;241m.\u001b[39mcwd()\u001b[38;5;241m.\u001b[39mparent  \u001b[38;5;241m/\u001b[39m \u001b[38;5;124m\"\u001b[39m\u001b[38;5;124mdata\u001b[39m\u001b[38;5;124m\"\u001b[39m\u001b[38;5;241m/\u001b[39m \u001b[38;5;124m\"\u001b[39m\u001b[38;5;124mali_paradigm_training\u001b[39m\u001b[38;5;124m\"\u001b[39m  \u001b[38;5;66;03m# Whereever we upload for 1 trial   \u001b[39;00m\n\u001b[0;32m      3\u001b[0m method \u001b[38;5;241m=\u001b[39m [\u001b[38;5;124m\"\u001b[39m\u001b[38;5;124mA1\u001b[39m\u001b[38;5;124m\"\u001b[39m]                                                  \n\u001b[1;32m----> 4\u001b[0m df_combined \u001b[38;5;241m=\u001b[39m \u001b[43mprocess_and_combine_all_csvs\u001b[49m\u001b[43m(\u001b[49m\u001b[43mbase_path\u001b[49m\u001b[43m,\u001b[49m\u001b[43mblink_rejection\u001b[49m\u001b[38;5;241;43m=\u001b[39;49m\u001b[38;5;28;43;01mFalse\u001b[39;49;00m\u001b[43m,\u001b[49m\u001b[43m \u001b[49m\u001b[43mnormalization\u001b[49m\u001b[38;5;241;43m=\u001b[39;49m\u001b[43mmethod\u001b[49m\u001b[43m)\u001b[49m\n\u001b[0;32m      5\u001b[0m X, y \u001b[38;5;241m=\u001b[39m extract_features_from_df_combined(df_combined, fs\u001b[38;5;241m=\u001b[39m\u001b[38;5;241m128\u001b[39m, feature_types \u001b[38;5;241m=\u001b[39m feature_types)\n",
      "File \u001b[1;32mc:\\Users\\chris\\Documents\\Master_MSNE\\SS25\\BSPM\\Biosignals\\ML_try_Ege\\help_func_new_paradigm.py:317\u001b[0m, in \u001b[0;36mprocess_and_combine_all_csvs\u001b[1;34m(folder_path, fs, tmin, tmax, normalization, blink_channel_idx, blink_threshold, blink_rejection)\u001b[0m\n\u001b[0;32m    314\u001b[0m df_annotated \u001b[38;5;241m=\u001b[39m annotate_flash_and_target_columns(df_eeg)\n\u001b[0;32m    315\u001b[0m df_with_trials \u001b[38;5;241m=\u001b[39m add_trial_count_column_for_flashes_only(df_annotated)\n\u001b[1;32m--> 317\u001b[0m df_flashwise_averages \u001b[38;5;241m=\u001b[39m \u001b[43mepoch_grouped_trialwise_average\u001b[49m\u001b[43m(\u001b[49m\u001b[43mdf_with_trials\u001b[49m\u001b[43m,\u001b[49m\n\u001b[0;32m    318\u001b[0m \u001b[43m                                                        \u001b[49m\u001b[43mfs\u001b[49m\u001b[38;5;241;43m=\u001b[39;49m\u001b[43mfs\u001b[49m\u001b[43m,\u001b[49m\u001b[43m \u001b[49m\u001b[43mtmin\u001b[49m\u001b[38;5;241;43m=\u001b[39;49m\u001b[43mtmin\u001b[49m\u001b[43m,\u001b[49m\u001b[43m \u001b[49m\u001b[43mtmax\u001b[49m\u001b[38;5;241;43m=\u001b[39;49m\u001b[43mtmax\u001b[49m\u001b[43m,\u001b[49m\n\u001b[0;32m    319\u001b[0m \u001b[43m                                                        \u001b[49m\u001b[43mnormalization\u001b[49m\u001b[38;5;241;43m=\u001b[39;49m\u001b[43mnormalization\u001b[49m\u001b[43m,\u001b[49m\n\u001b[0;32m    320\u001b[0m \u001b[43m                                                        \u001b[49m\u001b[43mblink_channel_idx\u001b[49m\u001b[38;5;241;43m=\u001b[39;49m\u001b[43mblink_channel_idx\u001b[49m\u001b[43m,\u001b[49m\n\u001b[0;32m    321\u001b[0m \u001b[43m                                                        \u001b[49m\u001b[43mblink_threshold\u001b[49m\u001b[38;5;241;43m=\u001b[39;49m\u001b[43mblink_threshold\u001b[49m\u001b[43m,\u001b[49m\n\u001b[0;32m    322\u001b[0m \u001b[43m                                                        \u001b[49m\u001b[43mblink_rejection\u001b[49m\u001b[38;5;241;43m=\u001b[39;49m\u001b[43mblink_rejection\u001b[49m\u001b[43m)\u001b[49m\n\u001b[0;32m    324\u001b[0m \u001b[38;5;66;03m# Shift trial counts to make them unique across files\u001b[39;00m\n\u001b[0;32m    325\u001b[0m df_flashwise_averages[\u001b[38;5;124m\"\u001b[39m\u001b[38;5;124mtrial_count\u001b[39m\u001b[38;5;124m\"\u001b[39m] \u001b[38;5;241m+\u001b[39m\u001b[38;5;241m=\u001b[39m trial_offset\n",
      "File \u001b[1;32mc:\\Users\\chris\\Documents\\Master_MSNE\\SS25\\BSPM\\Biosignals\\ML_try_Ege\\help_func_new_paradigm.py:162\u001b[0m, in \u001b[0;36mepoch_grouped_trialwise_average\u001b[1;34m(df, fs, tmin, tmax, blink_channel_idx, blink_threshold, normalization, blink_rejection)\u001b[0m\n\u001b[0;32m    160\u001b[0m         \u001b[38;5;28;01mpass\u001b[39;00m\n\u001b[0;32m    161\u001b[0m     \u001b[38;5;28;01melse\u001b[39;00m:\n\u001b[1;32m--> 162\u001b[0m         \u001b[38;5;28;01mraise\u001b[39;00m \u001b[38;5;167;01mValueError\u001b[39;00m(\u001b[38;5;124m\"\u001b[39m\u001b[38;5;124mInvalid normalization type.\u001b[39m\u001b[38;5;124m\"\u001b[39m)\n\u001b[0;32m    164\u001b[0m     epochs\u001b[38;5;241m.\u001b[39mappend(epoch)\n\u001b[0;32m    166\u001b[0m \u001b[38;5;28;01mif\u001b[39;00m \u001b[38;5;129;01mnot\u001b[39;00m epochs:\n",
      "\u001b[1;31mValueError\u001b[0m: Invalid normalization type."
     ]
    }
   ],
   "source": [
    "# Load the signal recording data\n",
    "base_path = Path.cwd().parent  / \"data\"/ \"ali_paradigm_training\"  # Whereever we upload for 1 trial   \n",
    "method = [\"A1\"]                                                  \n",
    "df_combined = process_and_combine_all_csvs(base_path,blink_rejection=False, normalization=method)\n",
    "X, y = extract_features_from_df_combined(df_combined, fs=128, feature_types = feature_types)"
   ]
  }
 ],
 "metadata": {
  "kernelspec": {
   "display_name": "alimbs",
   "language": "python",
   "name": "python3"
  },
  "language_info": {
   "codemirror_mode": {
    "name": "ipython",
    "version": 3
   },
   "file_extension": ".py",
   "mimetype": "text/x-python",
   "name": "python",
   "nbconvert_exporter": "python",
   "pygments_lexer": "ipython3",
   "version": "3.10.15"
  }
 },
 "nbformat": 4,
 "nbformat_minor": 5
}
